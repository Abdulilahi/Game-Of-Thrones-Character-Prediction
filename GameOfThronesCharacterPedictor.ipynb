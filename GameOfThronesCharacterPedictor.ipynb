{
 "cells": [
  {
   "cell_type": "code",
   "execution_count": 33,
   "id": "b00c4b86-4023-42a5-91e1-a8debc6742bf",
   "metadata": {},
   "outputs": [],
   "source": [
    "import pandas as pd\n",
    "import numpy as np"
   ]
  },
  {
   "cell_type": "code",
   "execution_count": 34,
   "id": "4d9bdd35-b5a0-4cb8-b0ac-2080ae74c0cd",
   "metadata": {},
   "outputs": [],
   "source": [
    "df=pd.read_json(\"/home/illahi/Desktop/script-bag-of-words.json\")"
   ]
  },
  {
   "cell_type": "code",
   "execution_count": 35,
   "id": "1c50b453-a538-474c-825c-88dcd1df42d0",
   "metadata": {},
   "outputs": [
    {
     "data": {
      "text/html": [
       "<div>\n",
       "<style scoped>\n",
       "    .dataframe tbody tr th:only-of-type {\n",
       "        vertical-align: middle;\n",
       "    }\n",
       "\n",
       "    .dataframe tbody tr th {\n",
       "        vertical-align: top;\n",
       "    }\n",
       "\n",
       "    .dataframe thead th {\n",
       "        text-align: right;\n",
       "    }\n",
       "</style>\n",
       "<table border=\"1\" class=\"dataframe\">\n",
       "  <thead>\n",
       "    <tr style=\"text-align: right;\">\n",
       "      <th></th>\n",
       "      <th>episodeAlt</th>\n",
       "      <th>seasonNum</th>\n",
       "      <th>episodeNum</th>\n",
       "      <th>episodeTitle</th>\n",
       "      <th>text</th>\n",
       "    </tr>\n",
       "  </thead>\n",
       "  <tbody>\n",
       "    <tr>\n",
       "      <th>68</th>\n",
       "      <td>S8E2</td>\n",
       "      <td>8</td>\n",
       "      <td>2</td>\n",
       "      <td>A Knight of the Seven Kingdoms</td>\n",
       "      <td>[{'name': 'Daenerys Targaryen', 'text': 'About...</td>\n",
       "    </tr>\n",
       "    <tr>\n",
       "      <th>69</th>\n",
       "      <td>S8E3</td>\n",
       "      <td>8</td>\n",
       "      <td>3</td>\n",
       "      <td>The Long Night</td>\n",
       "      <td>[{'name': 'Northman #1', 'text': 'Oi!'}, {'nam...</td>\n",
       "    </tr>\n",
       "    <tr>\n",
       "      <th>70</th>\n",
       "      <td>S8E4</td>\n",
       "      <td>8</td>\n",
       "      <td>4</td>\n",
       "      <td>The Last of the Starks</td>\n",
       "      <td>[{'name': 'Jon Snow', 'text': 'And Everyone It...</td>\n",
       "    </tr>\n",
       "    <tr>\n",
       "      <th>71</th>\n",
       "      <td>S8E5</td>\n",
       "      <td>8</td>\n",
       "      <td>5</td>\n",
       "      <td>The Bells</td>\n",
       "      <td>[{'name': 'Lord Varys', 'text': 'And? Come Not...</td>\n",
       "    </tr>\n",
       "    <tr>\n",
       "      <th>72</th>\n",
       "      <td>S8E6</td>\n",
       "      <td>8</td>\n",
       "      <td>6</td>\n",
       "      <td>The Iron Throne</td>\n",
       "      <td>[{'name': 'Tyrion Lannister', 'text': 'I'll fi...</td>\n",
       "    </tr>\n",
       "  </tbody>\n",
       "</table>\n",
       "</div>"
      ],
      "text/plain": [
       "   episodeAlt  seasonNum  episodeNum                    episodeTitle  \\\n",
       "68       S8E2          8           2  A Knight of the Seven Kingdoms   \n",
       "69       S8E3          8           3                  The Long Night   \n",
       "70       S8E4          8           4          The Last of the Starks   \n",
       "71       S8E5          8           5                       The Bells   \n",
       "72       S8E6          8           6                 The Iron Throne   \n",
       "\n",
       "                                                 text  \n",
       "68  [{'name': 'Daenerys Targaryen', 'text': 'About...  \n",
       "69  [{'name': 'Northman #1', 'text': 'Oi!'}, {'nam...  \n",
       "70  [{'name': 'Jon Snow', 'text': 'And Everyone It...  \n",
       "71  [{'name': 'Lord Varys', 'text': 'And? Come Not...  \n",
       "72  [{'name': 'Tyrion Lannister', 'text': 'I'll fi...  "
      ]
     },
     "execution_count": 35,
     "metadata": {},
     "output_type": "execute_result"
    }
   ],
   "source": [
    "df.tail()"
   ]
  },
  {
   "cell_type": "code",
   "execution_count": 36,
   "id": "c6721a3e-1bb2-451c-8d6b-99040ae512a7",
   "metadata": {},
   "outputs": [
    {
     "data": {
      "text/plain": [
       "[{'name': 'Tyrion Lannister', 'text': \"I'll find later. you\"},\n",
       " {'name': 'Jon Snow', 'text': \"It's Let me men not safe. send some with you.\"},\n",
       " {'name': 'Tyrion Lannister', 'text': \"I'm alone. going\"},\n",
       " {'name': 'Grey Worm',\n",
       "  'text': 'Daenerys I In Queen, Targaryen, die. name of one sentence the the to true you'},\n",
       " {'name': 'Jon Snow',\n",
       "  'text': \"Grey It's These Worm! are men over. prisoners.\"},\n",
       " {'name': 'Grey Worm',\n",
       "  'text': \"It Queen's are defeated. enemies is not over the until\"},\n",
       " {'name': 'Davos Seaworth',\n",
       "  'text': \"How They're be? defeated do knees. more much on their them to want you\"},\n",
       " {'name': 'Grey Worm', 'text': 'They are breathing.'},\n",
       " {'name': 'Davos Seaworth', 'text': 'Look We around friend. won. you,'},\n",
       " {'name': 'Grey Worm', 'text': \"I commands, my not obey queen's yours.\"},\n",
       " {'name': 'Jon Snow', 'text': \"And Queen's are commands? the what\"},\n",
       " {'name': 'Grey Worm',\n",
       "  'text': '\"Kill Cersei Lannister.\" These They all are chose fight follow for free her. men. to who'},\n",
       " {'name': 'Davos Seaworth',\n",
       "  'text': 'Easy! Easy, Easy. Jon. Queen. We men. should speak the with'},\n",
       " {'name': 'Dothraki Bloodrider #1', 'text': 'Hyah!'},\n",
       " {'lang': 'Dothraki',\n",
       "  'name': 'Daenerys Targaryen',\n",
       "  'translation': 'Blood Kingdoms! Seven You You You You all blood. down enemies gave houses. in iron kept killed me me. my my of promises stone suits. the their their to tore your',\n",
       "  'text': ''},\n",
       " {'lang': 'High Valyrian',\n",
       "  'name': 'Daenerys Targaryen',\n",
       "  'translation': \"Grey I Master Plaza Pride. Queen's War. Worm. You You all are beside bravest commander forces, have loyal me men, most my name of of of of of since soldiers. the the the the walked you\",\n",
       "  'text': ''},\n",
       " {'lang': 'High Valyrian',\n",
       "  'name': 'Daenerys Targaryen',\n",
       "  'translation': \"All But Dorne, From Isles Jade King's Landing Lannisport Now... Qarth, Sea! Summer Unsullied. We Will Winterfell Women, You a all and and are arms as beneath break children down freed from from from from grip have have have is lay liberated liberators! long me? men mothers' not not of of of of our over. people people raised slaves. spears suffered the the the the the the the the the to to to too torn tyrant! until war we were wheel wheel. will with world! you you you your\",\n",
       "  'text': ''},\n",
       " {'name': 'Daenerys Targaryen',\n",
       "  'text': 'You You brother. committed freed treason. your'},\n",
       " {'name': 'Tyrion Lannister',\n",
       "  'text': 'And I a brother. city. freed my slaughtered you'},\n",
       " {'lang': 'High Valyrian',\n",
       "  'name': 'Daenerys Targaryen',\n",
       "  'translation': 'Take him.',\n",
       "  'text': ''},\n",
       " {'name': 'Jon Snow', 'text': 'Hey, What are doing happened? here? what you'},\n",
       " {'name': 'Arya Stark',\n",
       "  'text': 'Cersei. I Your came first. got kill queen there to'},\n",
       " {'name': 'Jon Snow', 'text': \"She's everyone's now. queen\"},\n",
       " {'name': 'Arya Stark', 'text': 'Sansa. Try telling'},\n",
       " {'name': 'Jon Snow',\n",
       "  'text': \"I'll Wait city come find for gates. me outside the you.\"},\n",
       " {'name': 'Arya Stark',\n",
       "  'text': \"And I I Jon. She Who You'll a a always are. are. be her. killer know knows one. really see threat to when who you you\"},\n",
       " {'name': 'Tyrion Lannister', 'text': 'Did any bring wine? you'},\n",
       " {'name': 'Jon Snow', 'text': 'No.'},\n",
       " {'name': 'Tyrion Lannister',\n",
       "  'text': '\"See, Ah... I I I I\\'m I\\'m It Now Our So Varys\\'s Well... a after alive and ashes ashes: betrayed burn. can closest coming crude death? doesn\\'t for for friend going. him is just justice. keep kind knows life long. man me. me. my my occurred of only prisoners queen see suppose talking tell thank the there there\\'s to to to told watched where who you you.\"'},\n",
       " {'name': 'Jon Snow', 'text': \"I've Not seen. that\"},\n",
       " {'name': 'Tyrion Lannister',\n",
       "  'text': 'I I I I I Oblivion a be best betrayed could crossbow. father for. hope is lover. my my my own queen. shot should strangled thankful. the with'},\n",
       " {'name': 'Jon Snow', 'text': \"You didn't.\"},\n",
       " {'name': 'Tyrion Lannister',\n",
       "  'text': \"And I I I'd I've I've King's Landing The again, chose did did. do fate. it my not. now of people seen seen. that what\"},\n",
       " {'name': 'Jon Snow',\n",
       "  'text': \"But I I can't happened. is justify now. over the try. war what won't\"},\n",
       " {'name': 'Tyrion Lannister',\n",
       "  'text': \"And Bay. Is King's Landing. She She Slaver's When all. and are did done fighting? free... go heard her her it? liberated liberated liberating like of of of on people people people rules she she she'll soldiers, someone sound talking the the the the them to until who's world you\"},\n",
       " {'name': 'Jon Snow',\n",
       "  'text': \"And Until been by counseling her her. side, today. you've\"},\n",
       " {'name': 'Tyrion Lannister',\n",
       "  'text': \"I I It Our Until Varys and blood. could fire guide her. is nature queen's right. think to today. vanity was was was wrong.\"},\n",
       " {'name': 'Jon Snow',\n",
       "  'text': \"I'd Lannister. She's Then Tywin You and and are are? be blood, bodies born father, fire her house more no not on our our stamped than that's think too. we we're when who words you're\"},\n",
       " {'name': 'Tyrion Lannister',\n",
       "  'text': \"My My Pile a all all an an as as be beautiful bodies day. ever evil evil father half in killed, man. many of our people queen single sister slaughtered still the the there they up was was woman. won't\"},\n",
       " {'name': 'Jon Snow', 'text': 'Cersei choice. her left no'},\n",
       " {'name': 'Tyrion Lannister',\n",
       "  'text': 'The battle fell, gates moment over. the the was'},\n",
       " {'name': 'Jon Snow',\n",
       "  'text': 'She She beheaded. dragon friend her her of out saw saw shot sky. the'},\n",
       " {'name': 'Tyrion Lannister', 'text': 'And a burned city down for it. she'},\n",
       " {'name': 'Jon Snow',\n",
       "  'text': \"Aye, battlefield. easy far from it's judge standing the to when you're\"},\n",
       " {'name': 'Tyrion Lannister', 'text': 'Would done have it? you'},\n",
       " {'name': 'Jon Snow', 'text': 'What?'},\n",
       " {'name': 'Tyrion Lannister',\n",
       "  'text': \"Would You've You've a back. been burned city down? dragon's had have on power. that the there, up you\"},\n",
       " {'name': 'Jon Snow', 'text': \"I don't know.\"},\n",
       " {'name': 'Tyrion Lannister',\n",
       "  'text': \"Yes, You because betray but do. don't her... know. say to want won't you you you\"},\n",
       " {'name': 'Jon Snow', 'text': \"I'd What's do? it matter what\"},\n",
       " {'name': 'Tyrion Lannister',\n",
       "  'text': \"After And Astapor, Dothraki Everywhere I'm If It Meereenese She The They They When When a alive? all, and and and and anything. argue? believed believed believes better between build burned but cheer complained. could crucified destiny die done everyone. evil evil evil for for goes, good grows have her her her. hundreds if is is it, it. khals kill matters men men. men. more more more murdered no nobles, of of one paradise? powerful right. she she she she she she slavers slavers stood sure sure than that that... the the they to to truly we were were who whoever world worse would wouldn't you you you you\"},\n",
       " {'name': 'Tyrion Lannister',\n",
       "  'text': 'But I I I Look Love Not We all all as as at believed brother. heart. her her, her. in is know know love love more my my powerful reason. successfully than that. too. with you you.'},\n",
       " {'name': 'Jon Snow', 'text': '\"Love death duty.\" is of the'},\n",
       " {'name': 'Tyrion Lannister', 'text': 'You came just that? up with'},\n",
       " {'name': 'Jon Snow', 'text': 'Aemon Maester a ago. it long said time'},\n",
       " {'name': 'Tyrion Lannister',\n",
       "  'text': \"And Do I'm I'm Iron It's It's No Sometimes Throne? Who Who You a also always are asking. cost, dangerous death do duty execute? greatest guards heir is is is last love. man matter men. more now? of of people people. protect realms right right rightful she'll shield terrible than that the the the the the the the the the the the thing thing. thing. think threat to to to to tried tried you you've you've\"},\n",
       " {'name': 'Jon Snow',\n",
       "  'text': \"I'm Queen. She That's came decision. her is it sorry the this. to\"},\n",
       " {'name': 'Tyrion Lannister',\n",
       "  'text': 'And Do bending knee? see sisters? the them you your'},\n",
       " {'name': 'Jon Snow', 'text': 'My be loyal sisters the throne. to will'},\n",
       " {'name': 'Tyrion Lannister',\n",
       "  'text': \"Because Dany Sansa Why about be do doesn't me queen. she the think to told truth want you you?\"},\n",
       " {'name': 'Jon Snow', 'text': \"She choose. doesn't get to\"},\n",
       " {'name': 'Tyrion Lannister',\n",
       "  'text': 'And But No. choose do. have now. to you you'},\n",
       " {'name': 'Daenerys Targaryen',\n",
       "  'text': \"1,000 1,000 20? Aegon's Aegon's I I So What When a a a brother can't climb. could count do enemies, enemies. fallen fallen feet. from girl girl, high imagined in it like little look made many me mind mountain my of of of only see soles swords swords swords the the to to told too was was who with you\"},\n",
       " {'name': 'Jon Snow',\n",
       "  'text': 'I Lannister They acting executing in on orders. prisoners said saw street. the them they were your'},\n",
       " {'name': 'Daenerys Targaryen', 'text': 'It necessary. was'},\n",
       " {'name': 'Jon Snow',\n",
       "  'text': 'Children, Have Have Necessary? been burned! children, down little seen? there? you you'},\n",
       " {'name': 'Daenerys Targaryen',\n",
       "  'text': 'Cersei. I She She a against as cripple innocence it make me. me. peace their thought to tried used weapon with would'},\n",
       " {'name': 'Jon Snow', 'text': 'And Tyrion?'},\n",
       " {'name': 'Daenerys Targaryen',\n",
       "  'text': \"He How back behind broke conspired done enemies. even have heart? it my my people same the to treated when who've with you you, your\"},\n",
       " {'name': 'Jon Snow', 'text': 'Forgive him.'},\n",
       " {'name': 'Daenerys Targaryen', 'text': \"I can't.\"},\n",
       " {'name': 'Jon Snow',\n",
       "  'text': 'Dany. Make Please, You You a all can can. forgive made make mistake. of see them them them, they understand.'},\n",
       " {'name': 'Daenerys Targaryen',\n",
       "  'text': \"The We be behind built by can't have. hide loyal men mercies. need small the to we we won't world world\"},\n",
       " {'name': 'Jon Snow',\n",
       "  'text': 'It The a be. has is mercy. need of to we world world'},\n",
       " {'name': 'Daenerys Targaryen',\n",
       "  'text': \"A And It's be. been before. easy good it never not see something that's to will world.\"},\n",
       " {'name': 'Jon Snow',\n",
       "  'text': \"How How be do do good? it'll know know? you you\"},\n",
       " {'name': 'Daenerys Targaryen',\n",
       "  'text': 'And Because I do good. is know so what you.'},\n",
       " {'name': 'Jon Snow', 'text': \"I don't.\"},\n",
       " {'name': 'Daenerys Targaryen',\n",
       "  'text': \"You You You've always do. do. known.\"},\n",
       " {'name': 'Jon Snow',\n",
       "  'text': \"All What about else? everyone good. know other people the they think what's who\"},\n",
       " {'name': 'Daenerys Targaryen',\n",
       "  'text': \"20. Be Build I It They This We We a a a and bastard's been beginning, boy break choose. couldn't count do don't from get girl has is it little little me. me. name new our reason. since the the the to to together. together. was were wheel who with with with world you\"},\n",
       " {'name': 'Jon Snow', 'text': 'Now, You always. and are my queen.'},\n",
       " {'name': 'Sansa Stark', 'text': \"Jon? Where's\"},\n",
       " {'name': 'Grey Worm', 'text': 'He is our prisoner.'},\n",
       " {'name': 'Sansa Stark',\n",
       "  'text': 'Lord So They Tyrion. be both brought gathering. is this to to were'},\n",
       " {'name': 'Grey Worm',\n",
       "  'text': 'This We city decide do is now. our our prisoners. we what will with'},\n",
       " {'name': 'Sansa Stark',\n",
       "  'text': \"If Jon Northmen Snow city, explain find harming in interest. is look not of of outside the thousands to walls who why will you you you'll your your\"},\n",
       " {'name': 'Grey Worm',\n",
       "  'text': 'And Unsullied believe find is. it of that thousands who will you'},\n",
       " {'name': 'Yara Greyjoy',\n",
       "  'text': 'Daenerys I Ironborn Some Targaryen. The are be follow forgive. may not. of quick swore to to you'},\n",
       " {'name': 'Sansa Stark', 'text': 'You a follow swore to tyrant.'},\n",
       " {'name': 'Yara Greyjoy',\n",
       "  'text': 'Cersei Jon Let She Snow Unsullied a a and because deserves. freed from give gone he heart. her her, him in is knife of put the tyrant. us what'},\n",
       " {'name': 'Arya Stark',\n",
       "  'text': \"I'll Say about and another brother cut killing my throat. word your\"},\n",
       " {'name': 'Davos Seaworth',\n",
       "  'text': \"Am Friends, Good House I If Make Nudho. Reach. Start The There This Thousands Torgo Unsullied We We've We've You a a and are as bannermen. been better but can country cutting dead. debt each ends. enough enough. find for gone. had how in is it it it it know land land. let live long lost men, need never of of other's owes own own. people please. properly? repay, saying that that the the the the them. there thousands throats to to try. us used war war. way. we weren't with with would've you you you, your your your your\"},\n",
       " {'name': 'Grey Worm',\n",
       "  'text': 'Jon Snow We We cannot do free. go justice. need need not payment.'},\n",
       " {'name': 'Tyrion Lannister', 'text': \"It's decide. for not to you\"},\n",
       " {'name': 'Grey Worm',\n",
       "  'text': 'Everyone You are enough from has heard here not speak! to words you.'},\n",
       " {'name': 'Tyrion Lannister',\n",
       "  'text': \"And But His Jon Or You're any better committed crime decide. decide. fate for for for here. his is it's it. king no not one's our our queen. right. to to you\"},\n",
       " {'name': 'Yohn Royce', 'text': \"We a don't have king or queen.\"},\n",
       " {'name': 'Tyrion Lannister',\n",
       "  'text': \"Choose Westeros. You're in most one. people powerful the\"},\n",
       " {'name': 'Grey Worm', 'text': 'Make choice, then. your'},\n",
       " {'name': 'Edmure Tully',\n",
       "  'text': 'A And I I I My What and and annals as before country. decide experience has history. important in in is ladies... led like lives. lords lords moment most my of of of of one our reverberate senior skill small some stand statecraft suppose the the the the think this through to to today two underst... veteran wars. we will you'},\n",
       " {'name': 'Sansa Stark', 'text': 'Please Uncle? sit.'},\n",
       " {'name': 'Yohn Royce', 'text': 'Well, choose have someone. to we'},\n",
       " {'name': 'Samwell Tarly',\n",
       "  'text': \"Houses, Maybe Um, Um... We Why about ahem... all and be best but choose, decision everyone everyone. for great just just ladies. left lords over represent rule should the the they to... us? we well, what's whomever won't\"},\n",
       " {'name': 'Edmure Tully',\n",
       "  'text': 'Maybe a as dogs give should the vote we well.'},\n",
       " {'name': 'Yohn Royce', 'text': \"I'll ask horse. my\"},\n",
       " {'name': 'Edmure Tully', 'text': 'I crown. suppose the want you'},\n",
       " {'name': 'Tyrion Lannister',\n",
       "  'text': \"Can't Daenerys, Half Imp? Me? The a betraying choice. for for half hate hate her. me me of other people serving the the think worse\"},\n",
       " {'name': 'Davos Seaworth', 'text': 'Who, then?'},\n",
       " {'name': 'Tyrion Lannister',\n",
       "  'text': \"About About And Armies? Bran Broken? Flags? Gold? He He He I've No Nothing Our Raven. Stories. The The There's Three-Eyed Wall, What Who a a a a again, all and and became better better beyond births, bloody boy boy, but can can crippled crossed defeat defeats, do enemy famines. fell few fly. from future? good had has he he'd high history. in into is it. it. keeper knew lead learned lived. made. massacres, memory, mistakes mm, more never nothing nothing of our our our our our past past. people? powerful so stop stories. story. story... than than the the the the the the the these think to to to tower triumphs, unites us walk wars, we've weddings, weeks. who who world\"},\n",
       " {'name': 'Sansa Stark',\n",
       "  'text': \"Bran and can't children. father has he in interest no ruling\"},\n",
       " {'name': 'Tyrion Lannister',\n",
       "  'text': \"But From Good. His I I I Kingdoms Realm. Seven Sons That They Westeros... Will abilities about and and as ask be be be best born. break. by can care choose chosen crown? cruel day day? don't don't from if is it. kings know know know. ladies last lead lords never not now now, of of of on on, our power. queen rulers serve spot stupid, the the the the the the this this to to to torment until us. want wanted we wear well wheel will will will will you you you you you you you... your your\"},\n",
       " {'name': 'Bran Stark', 'text': 'I Why all came do think this way? you'},\n",
       " {'name': 'Tyrion Lannister',\n",
       "  'text': 'Brandon House I Stark... To aye. of say'},\n",
       " {'name': 'Samwell Tarly', 'text': 'Aye.'},\n",
       " {'name': 'Edmure Tully', 'text': 'Aye.'},\n",
       " {'name': 'Lord #1', 'text': 'Aye.'},\n",
       " {'name': 'Lord #2', 'text': 'Aye.'},\n",
       " {'name': 'Yohn Royce', 'text': 'Aye.'},\n",
       " {'name': 'Robin Arryn', 'text': 'Aye.'},\n",
       " {'name': 'Dornish Lord', 'text': 'Aye.'},\n",
       " {'name': 'Yara Greyjoy', 'text': 'Aye.'},\n",
       " {'name': 'Lord #3', 'text': 'Aye.'},\n",
       " {'name': 'Lord #4', 'text': 'Aye.'},\n",
       " {'name': 'Gendry', 'text': 'Aye.'},\n",
       " {'name': 'Davos Seaworth', 'text': \"I I'm a aye. but get not sure vote,\"},\n",
       " {'name': 'Brienne of Tarth', 'text': 'Aye.'},\n",
       " {'name': 'Sansa Stark',\n",
       "  'text': \"And But Great I I North Northmen The War Westeros. You'll a again. all always an and as be brother. defending ever fell for fought good hard have in independent it king. kingdom, kneel little love much of of of of remain seen survived tens the those thousands thousands to too too was who will will. years. you,\"},\n",
       " {'name': 'Tyrion Lannister',\n",
       "  'text': 'All Andals Bran Broken, First First His King Kingdoms Lord Men, Name, Protector Realm. Six and and hail of of of of the the the the the'},\n",
       " {'name': 'Samwell Tarly', 'text': 'All Bran Broken! hail the'},\n",
       " {'name': 'Edmure Tully', 'text': 'All Bran Broken! hail the'},\n",
       " {'name': 'Lord #1', 'text': 'All Bran Broken! hail the'},\n",
       " {'name': 'Lord #2', 'text': 'All Bran Broken! hail the'},\n",
       " {'name': 'Yohn Royce', 'text': 'All Bran Broken! hail the'},\n",
       " {'name': 'Robin Arryn', 'text': 'All Bran Broken! hail the'},\n",
       " {'name': 'Dornish Lord', 'text': 'All Bran Broken! hail the'},\n",
       " {'name': 'Yara Greyjoy', 'text': 'All Bran Broken! hail the'},\n",
       " {'name': 'Lord #3', 'text': 'All Bran Broken! hail the'},\n",
       " {'name': 'Lord #4', 'text': 'All Bran Broken! hail the'},\n",
       " {'name': 'Gendry', 'text': 'All Bran Broken! hail the'},\n",
       " {'name': 'Davos Seaworth', 'text': 'All Bran Broken! hail the'},\n",
       " {'name': 'Brienne of Tarth', 'text': 'All Bran Broken! hail the'},\n",
       " {'name': 'Bran Stark', 'text': 'Hand. Lord Tyrion... be my will you'},\n",
       " {'name': 'Tyrion Lannister', 'text': \"Grace, I N... No, Your don't it. want\"},\n",
       " {'name': 'Bran Stark', 'text': \"And I be don't king. to want\"},\n",
       " {'name': 'Tyrion Lannister',\n",
       "  'text': \"Choose Choose Davos. I I I I I I I Ser anyone but but deserve didn't. don't else. it. knew right, thought thought was was wasn't. what wise,\"},\n",
       " {'name': 'Bran Stark', 'text': 'I choose you.'},\n",
       " {'name': 'Grey Worm', 'text': 'You cannot.'},\n",
       " {'name': 'Bran Stark', 'text': \"I I'm Yes, can. king.\"},\n",
       " {'name': 'Grey Worm', 'text': 'He This a criminal. deserves is justice. man'},\n",
       " {'name': 'Bran Stark',\n",
       "  'text': \"He He's He's fixing going got his it. just life made many mistakes. of rest spend terrible the them. to\"},\n",
       " {'name': 'Grey Worm', 'text': 'It enough. is not'},\n",
       " {'name': 'Tyrion Lannister',\n",
       "  'text': \"Giving Letting Night's So Unsullied Watch. a a chosen free has king new our send start start the the to to to walk war. war. would would you you you\"},\n",
       " {'name': 'Jon Snow', 'text': \"Night's There's Watch? a still\"},\n",
       " {'name': 'Tyrion Lannister',\n",
       "  'text': \"Arya Grey I No Sansa The The Unsullied Which Worm You a a a accepted always and and bastards broken but but children. compromise, course, father for freed, good happy. has head hold home is it's justice king lands, life make means men. need needs new no no no of of one our peace. sentence. shall suppose. take the they to understand very wanted wanted wife, will world you your\"},\n",
       " {'name': 'Jon Snow', 'text': 'I Was What did? it right?'},\n",
       " {'name': 'Tyrion Lannister', 'text': 'What did. we'},\n",
       " {'name': 'Jon Snow', 'text': \"It doesn't feel right.\"},\n",
       " {'name': 'Tyrion Lannister', 'text': '10 Ask again in me years.'},\n",
       " {'name': 'Jon Snow',\n",
       "  'text': \"I again. don't each ever expect other see we'll\"},\n",
       " {'name': 'Tyrion Lannister',\n",
       "  'text': \"A Hand I King anyone as be edge few make of of off piss so sure. the the the to want world. would wouldn't years\"},\n",
       " {'lang': 'Astapori Valyrian',\n",
       "  'name': 'Unsullied #1',\n",
       "  'translation': 'All boarded. have men the',\n",
       "  'text': ''},\n",
       " {'lang': 'Astapori Valyrian',\n",
       "  'name': 'Grey Worm',\n",
       "  'translation': 'Good. Isle Naath. We for of sail the',\n",
       "  'text': ''},\n",
       " {'name': 'Sansa Stark',\n",
       "  'text': 'Can I another been forgive had me? there way. wish you'},\n",
       " {'name': 'Jon Snow', 'text': 'North The free, is thanks to you.'},\n",
       " {'name': 'Sansa Stark', 'text': 'But king. lost their they'},\n",
       " {'name': 'Jon Snow',\n",
       "  'text': \"Ned She's Stark's ask best could daughter for for. speak the them. they will\"},\n",
       " {'name': 'Jon Snow',\n",
       "  'text': 'Black. Castle You at can come know, me, see you'},\n",
       " {'name': 'Arya Stark', 'text': \"I can't.\"},\n",
       " {'name': 'Jon Snow',\n",
       "  'text': \"You allowed? anyone aren't dare tell think will women you\"},\n",
       " {'name': 'Arya Stark', 'text': \"I'm back going north. not\"},\n",
       " {'name': 'Sansa Stark', 'text': 'Where are going? you'},\n",
       " {'name': 'Arya Stark', 'text': \"Westeros? What's of west\"},\n",
       " {'name': 'Jon Snow', 'text': \"I don't know.\"},\n",
       " {'name': 'Arya Stark',\n",
       "  'text': \"I'm It's No That's all going. knows. maps one stop. the where where\"},\n",
       " {'name': 'Jon Snow', 'text': 'Needle? You have your'},\n",
       " {'name': 'Arya Stark', 'text': 'Right here.'},\n",
       " {'name': 'Jon Snow',\n",
       "  'text': \"Grace. I I'm Your me. needed sorry there wasn't when you\"},\n",
       " {'name': 'Bran Stark',\n",
       "  'text': 'You be. exactly supposed to were were where you'},\n",
       " {'name': 'Tyrion Lannister', 'text': \"That's Uh... What's not... this?\"},\n",
       " {'name': 'Samwell Tarly',\n",
       "  'text': '\"A Archmaester Ebrose\\'s Fire\". I Ice King Robert. Song and death following helped him history of of of the the the title. wars with'},\n",
       " {'name': 'Tyrion Lannister',\n",
       "  'text': 'I I come criticism. for heavy in some suppose'},\n",
       " {'name': 'Samwell Tarly', 'text': \"I Oh, say that. wouldn't\"},\n",
       " {'name': 'Tyrion Lannister',\n",
       "  'text': \"He's Never Oh, guessed. he's kind kind? me. not to would've\"},\n",
       " {'name': 'Samwell Tarly', 'text': 'He...'},\n",
       " {'name': 'Tyrion Lannister', 'text': 'He What about does he me? say what?'},\n",
       " {'name': 'Samwell Tarly', 'text': \"I ahem. believe don't mentioned, you're\"},\n",
       " {'name': 'Tyrion Lannister', 'text': 'Grace. Your'},\n",
       " {'name': 'Samwell Tarly', 'text': 'Grace. Your'},\n",
       " {'name': 'Bronn', 'text': 'Grace. Your'},\n",
       " {'name': 'Davos Seaworth', 'text': 'Grace. Your'},\n",
       " {'name': 'Bran Stark',\n",
       "  'text': 'And And Laws. Master Master Master War. We Whisperers. a a a appear be missing of of of to'},\n",
       " {'name': 'Tyrion Lannister',\n",
       "  'text': 'Grace. Suitable Yes, Your an audience be brought coming for in prospects the to weeks. will you'},\n",
       " {'name': 'Bran Stark', 'text': 'And Any Drogon? word?'},\n",
       " {'name': 'Samwell Tarly',\n",
       "  'text': 'He east, flying last spotted toward... was'},\n",
       " {'name': 'Bronn', 'text': 'The away, better. farther the'},\n",
       " {'name': 'Bran Stark',\n",
       "  'text': 'Do I Perhaps can carry find him. on rest. the with'},\n",
       " {'name': 'Tyrion Lannister', 'text': 'As Grace. Your wish, you'},\n",
       " {'name': 'Brienne of Tarth', 'text': 'Podrick. Ser'},\n",
       " {'name': 'Tyrion Lannister',\n",
       "  'text': 'Bran Broken, King Kingdoms Long Protector Realm. Six We and at he may of of pleasure, reign. ruler serve the the the your'},\n",
       " {'name': 'Samwell Tarly', 'text': 'Long he may reign.'},\n",
       " {'name': 'Davos Seaworth', 'text': 'Long he may reign.'},\n",
       " {'name': 'Brienne of Tarth', 'text': 'Long he may reign.'},\n",
       " {'name': 'Bronn', 'text': 'Long he may reign.'},\n",
       " {'name': 'Tyrion Lannister', 'text': 'That improve. will'},\n",
       " {'name': 'Bran Stark', 'text': \"I'm it sure will.\"},\n",
       " {'name': 'Tyrion Lannister',\n",
       "  'text': \"Blackwater, Bronn Coin, Crown's Highgarden, Lord Lord Master Paramount Reach Ser and been debt has of of of of paid? say the the the to would you you\"},\n",
       " {'name': 'Bronn', 'text': 'Hand. In Lord full, my'},\n",
       " {'name': 'Tyrion Lannister',\n",
       "  'text': 'Can Good. Time We a assistance expect feed. have hungry in incurring new one. people regard? some start this to to we'},\n",
       " {'name': 'Bronn', 'text': 'Indeed can. we'},\n",
       " {'name': 'Tyrion Lannister',\n",
       "  'text': 'Davos, Lord an and armada have ports rebuild repair. to to we'},\n",
       " {'name': 'Davos Seaworth',\n",
       "  'text': 'Coin Lofty Lord Master These Titles We and as as begin funding. have. of of projects provides soon the will'},\n",
       " {'name': 'Bronn',\n",
       "  'text': \"Coin Master Master Ships, The be but coin, coin. ensure first forward has he helping looks more no not of of or soon the there to to wasting we're won't\"},\n",
       " {'name': 'Davos Seaworth', 'text': '\"Any more.\"'},\n",
       " {'name': 'Bronn', 'text': 'Grammar Master You now, of too?'},\n",
       " {'name': 'Tyrion Lannister',\n",
       "  'text': 'Casterly Grandmaester, Rock a ahem, based clean healthier is it leads my my of on on population. sewers, that the theory, to water work years'},\n",
       " {'name': 'Samwell Tarly',\n",
       "  'text': 'Archmaester The and done has it on out... research some subject this turns'},\n",
       " {'name': 'Bronn', 'text': \"The and don't. live strong the weak\"},\n",
       " {'name': 'Tyrion Lannister',\n",
       "  'text': 'Find and best builders set task. the the them to'},\n",
       " {'name': 'Bronn',\n",
       "  'text': 'Coin Master Oh, The all best brothels builders, burned down. fund is of of reconstruction. speaking the to willing'},\n",
       " {'name': 'Samwell Tarly',\n",
       "  'text': 'Archmaester Uh... about brothels. effects enthusiastic is less of salutary than the the'},\n",
       " {'name': 'Bronn', 'text': \"I Well, he imagine isn't properly. them using\"},\n",
       " {'name': 'Brienne of Tarth',\n",
       "  'text': 'I agree all brothels. can over precedence ships take that think we'},\n",
       " {'name': 'Bronn', 'text': \"I a presumptuous statement. that's think very\"},\n",
       " {'name': 'Tyrion Lannister',\n",
       "  'text': 'I a a a and brothel. brought honeycomb into jackass once'},\n",
       " {'name': 'Stark Bannerman', 'text': 'North! Queen The in the'},\n",
       " {'name': 'Stark Bannermen',\n",
       "  'text': 'North! North! North! North! North! Queen Queen Queen Queen Queen The The The The The in in in in in the the the the the'}]"
      ]
     },
     "execution_count": 36,
     "metadata": {},
     "output_type": "execute_result"
    }
   ],
   "source": [
    "df.iloc[-1][\"text\"]"
   ]
  },
  {
   "cell_type": "code",
   "execution_count": 37,
   "id": "6d2f7a23-f231-45a5-adc6-bda8653c0a8c",
   "metadata": {},
   "outputs": [],
   "source": [
    "dialogue={}\n",
    "for ind,row in df.iterrows():\n",
    "    for i in row['text']:\n",
    "        if i['name'] in dialogue:\n",
    "            dialogue[i[\"name\"]]=dialogue[i[\"name\"]]+i[\"text\"]\n",
    "        else:\n",
    "            dialogue[i[\"name\"]]=i[\"text\"]+\" \""
   ]
  },
  {
   "cell_type": "code",
   "execution_count": 38,
   "id": "31636dc1-f0bb-4643-8ad0-60f3f0e9832a",
   "metadata": {},
   "outputs": [
    {
     "data": {
      "text/plain": [
       "817"
      ]
     },
     "execution_count": 38,
     "metadata": {},
     "output_type": "execute_result"
    }
   ],
   "source": [
    "len(dialogue)"
   ]
  },
  {
   "cell_type": "code",
   "execution_count": 39,
   "id": "c626c3ea-6da9-46bc-b15f-684e39493adb",
   "metadata": {},
   "outputs": [
    {
     "data": {
      "text/plain": [
       "dict_keys(['Will', 'Waymar Royce', 'Gared', 'Jon Snow', 'Septa Mordane', 'Sansa Stark', 'Eddard Stark', 'Robb Stark', 'Rodrik Cassel', 'Catelyn Stark', 'Bran Stark', 'Theon Greyjoy', 'Jaime Lannister', 'Cersei Lannister', 'Maester Luwin', 'Arya Stark', 'Robert Baratheon', 'Tyrion Lannister', 'Ros', 'Viserys Targaryen', 'Daenerys Targaryen', 'Maid', 'Illyrio Mopatis', 'Benjen Stark', 'Stark Guard', 'Khal Drogo', 'Jorah Mormont', 'Sandor Clegane', 'Doreah', 'Irri', 'Joffrey Baratheon', 'Myrcella Baratheon', 'Catspaw Assassin', 'Jhiqui', 'Mycah', 'Lannister Soldier #1', 'Lannister Soldier #2', 'Jory Cassel', 'Lannister Soldier', 'Royal Steward', 'Lord Varys', 'Renly Baratheon', 'Petyr Baelish', 'Grand Maester Pycelle', 'Old Nan', \"King's Landing Guard\", 'Alliser Thorne', 'Jeor Mormont', 'Grenn', 'Pypar', 'Rast', 'Barristan Selmy', 'Lancel Lannister', 'Dothraki Rider', 'Rakharo', 'Yoren', 'Maester Aemon', 'Syrio Forel', 'Hodor', 'Samwell Tarly', 'Janos Slynt', 'Hugh Of The Vale', 'Tobho Mott', 'Gendry', 'Marillion', 'Masha Heddle', 'Bronn', 'Knight of House Whent', 'Knight of House Bracken', 'Knight of House Frey', 'Gregor Clegane', 'Loras Tyrell', \"King's Landing Guard #1\", \"King's Landing Guard #2\", 'Vardis Egen', 'Lysa Arryn', 'Robin Arryn', 'Mord', 'Mhaegen', 'Osha', 'Stiv', 'Wallen', 'Wildling', 'Dothraki Crowd', 'Dothraki Crone', 'Vale Knight #1', 'Vale Knight #2', 'Vale Knight #3', 'Vale Knight #4', 'Vale Knight #5', 'Joss', 'Beric Dondarrion', 'Qotho', 'Tywin Lannister', 'Night Watch Stable Boy', 'Little Bird', 'Wine Merchant', 'Jaremy Rykker', 'Othell Yarwyck', 'Tomard', \"Night's Watch Men\", 'Varly', 'Vayon Poole', 'Meryn Trant', 'Lannister Guard', 'Red Keep Stableboy', \"Night's Watch Man\", 'Shagga', 'Mago', 'Mirri Maz Duur', 'Greatjon Umber', 'Rickon Stark', 'Kevan Lannister', 'Lannister Messenger', 'Lannister Scout', 'Walder Frey', 'Stevron Frey', 'Ryger Rivers', \"Night's Watch Man #1\", \"Night's Watch Man #2\", 'Cohollo', 'Shae', 'Timett', 'Chella', 'Tribesmen of the Vale', 'Stark Bannermen', \"King's Landing Baker\", \"King's Landing Street Urchin\", 'Street Urchin', \"King's Landing Crowd\", 'Jonos Bracken', 'Galbart Glover', 'Rickard Karstark', 'Leo Lefford', 'Addam Marbrand', 'Hot Pie', 'Lommy Greenhands', 'Announcer', 'Dontos Hollard', 'Northern Lord', 'Lord Portan', 'Eddison Tollett', 'Craster', 'Gilly', 'Melisandre', 'Dragonstone Crowd', 'Maester Cressen', 'Davos Seaworth', 'Stannis Baratheon', 'Matthos Seaworth', 'Stark Soldiers', 'Alton Lannister', 'Daisy', 'Goldcloak', \"Jaqen H'ghar\", 'Rorge', \"Captain's Daughter\", 'Brothel Customer', 'Podrick Payne', 'Lordsport Dockhand', 'Yara Greyjoy', 'Balon Greyjoy', 'Salladhor Saan', 'Margaery Tyrell', 'Renly Baratheon Man', 'Renly Baratheon Crowd', 'Brienne of Tarth', 'Colen Of Greenpools', 'Gerard', 'Tommen Baratheon', 'Drowned Priest', 'Man', 'Amory Lorch', 'Goldcloak #1', 'Goldcloak #2', 'Polliver', 'Rennick', 'Stark Man', 'Stark Men', 'Roose Bolton', 'Stark Soldier', 'Wounded Lannister Soldier', 'Talisa Maegyr', 'Kovarro', 'Lannister Soldier #3', 'Tortured Man', 'Old Woman Prisoner', 'The Tickler', 'Tortured Prisoner', 'Spice King', 'Xaro Xhoan Daxos', 'Stannis Baratheon Soldier', 'Renly Baratheon Soldier #1', 'Renly Baratheon Soldier #2', 'Renly Baratheon Soldier #3', 'Renly Baratheon Soldier #4', \"King's Landing Girl\", \"King's Landing Man\", \"King's Landing Man #2\", 'Protester', 'Lordsport Man', 'Black Lorren', 'Dagmer Cleftjaw', 'Reginald Lannister', 'Hallyne', 'Qartheen Woman', 'Pyat Pree', 'Quaithe', 'Winterfell Shepherd', 'Qhorin Halfhand', 'Harrenhal Woman', 'Farlen', 'Ironborn Soldier', 'Ygritte', 'High Septon', \"King's Landing Man #1\", \"King's Landing Man #3\", \"King's Landing Man #4\", \"King's Landing Man #5\", \"King's Landing Man #6\", \"King's Landing Man #7\", 'Kingsguard', \"King's Landing Woman\", 'Kingsguard #1', 'Kingsguard #2', 'Kingsguard #3', 'Stark Soldier #1', 'Stark Soldier #2', 'Stark Soldier #3', 'Stark Soldier #4', 'Quent', 'Drennan', 'Ironborn Man', 'Winterfell Shepherd Woman', 'Winterfell Shepherd Child', 'Ironborn Man #1', 'Ironborn Man #2', 'Handmaid', 'Torrhen Karstark', 'Silk King', 'Jacks', 'Stark Man #1', 'Stark Man #2', 'Stark Man #3', 'Stark Man #4', 'Stark Man #5', 'Stark Man #6', 'Rattleshirt', 'Wildling #1', 'Wildling #2', 'Stark Messenger', 'Lannister Man', 'Harrenhal Man', 'Lannister Men', 'Armeca', 'Mandon Moore', 'Captain of the Archers', \"King's Landing Soldier #2\", \"King's Landing Soldier\", 'Stannis Baratheon Soldiers', \"King's Landing Soldiers\", 'Stannis Baratheon Soldier #1', 'Stannis Baratheon Soldier #2', \"King's Landing Soldier #1\", \"King's Landing Soldier #3\", 'Handmaidens', 'Matt Berninger', 'Soldier Tom', 'Ironborn Soldiers', 'Septon', 'Wildling Man #1', 'Wildling Boy', 'Wildling Girl', 'Wildling Man #2', 'Wildling Woman', 'Tormund Giantsbane', 'Mance Rayder', 'Mirelle', 'Boat Commander', 'Qyburn', \"Margaery's Handmaiden\", 'Orphan Kid', 'Kraznys Mo Nakloz', 'Missandei', 'Unsullied', 'Jojen Reed', 'Master Torturer', 'Riverlands Traveller', \"King's Landing Tailor\", 'Handmaiden', 'Olenna Tyrell', 'Tyrell Servant', 'Orell', 'Meera Reed', 'Thoros Of Myr', 'Anguy', 'Ramsay Snow', 'Brotherhood Men', 'Locke', 'Edmure Tully', 'Brynden Tully', 'Bolton Soldier', 'Bolton Soldiers', 'Brotherhood Man', 'Martyn Lannister', \"Craster's Wife #1\", \"Craster's Wife #2\", \"Craster's Wife #3\", 'Greizhen Mo Ullhor', 'Marei', 'Bolton Soldier #1', 'Bolton Soldier #2', 'Bolton Soldier #3', 'The Hold Steady', 'Tyrell Lady', 'Karl Tanner', 'Brotherhood Soldier', 'Bolton Crowd', 'Willem Lannister', 'Karstark Lookout', 'Selyse Baratheon', 'Shireen Baratheon', 'Grey Worm', 'Olyvar', 'Black Walder Rivers', 'Lothar Frey', 'Razdal Mo Eraz', 'Myranda', 'Violet', 'Steelshanks Walton', 'Bolton Guard', 'Bolton Men', 'Bolton Man', 'Daario Naharis', 'Mero', 'Prendahl Na Ghezn', 'Merry', 'Hog Farmer', 'Old Man', 'Roslin Frey', 'Frey Wedding Guests', 'Frey Guard', 'Frey Man', 'Frey Men', 'Frey Soldier #1', 'Frey Soldier #2', \"Night's Watch Guard\", 'Todder', 'Fruit Vendor', 'Yunkai Man', 'Yunkai Child', 'Yunkai Crowd', 'Lord Blackmont', 'Oberyn Martell', 'Ellaria Sand', 'Morgan', \"Morgan's Friend\", 'Styr', 'Ser Endrew Tarth', 'Clegane Soldier #1', 'Clegane Soldier #2', 'Innkeeper', 'Tansy', 'Walda Frey', 'Bolton Woman', 'Mace Tyrell', 'Wedding Guest #1', 'Wedding Guest #2', 'Wedding Guest #3', 'Wedding Guest #4', 'Axell Florent', 'Three-Eyed Raven', 'Musician', 'King Renly Baratheon Dwarf', 'King Robb Stark Dwarf', 'King Joffrey Baratheon Dwarf', 'King Balon Greyjoy Dwarf', 'King Stannis Baratheon Dwarf', 'Wedding Guest', 'Farmer Hamlet', \"Night's Watchman\", \"Mole's Town Whore\", \"Mole's Town Madam\", 'Olly', 'Guymon', 'Farm Man', \"Olly's Mother\", 'Oznak Zo Pahl', 'Mossador', 'Elder Meereen Slave', 'Valyrian Slave', 'Great Master #1', 'Meereenese Slaves', \"Craster's Wives\", 'Sissy', 'Donnel Waynwood', 'Morag', 'Tycho Nestoris', 'Lhara', 'Bathhouse Prostitute', 'First Mate', 'Ironborn in Skiff', 'Manservant', 'Hizdahr zo Loraq', \"King's Landing Prisoner\", 'Dying Man', \"Night's Watch Man #3\", \"Night's Watch Man #4\", 'Kegs', 'Black Jack Bulwer', 'Ironborn Guard', 'Ralf Kenning', 'Adrack Humble', 'Yohn Royce', 'Anya Waynwood', 'Vance Corbray', 'Thenn Warg', \"Night's Watch Man #5\", \"Night's Watch Man #6\", 'Wildlings', \"Night's Watch Man #7\", \"Night's Watch Man #8\", \"Night's Watch Man #9\", \"Night's Watch Man #10\", \"Night's Watch Man #11\", \"Night's Watch Man #12\", \"Night's Watch Man #13\", \"Night's Watch Man #14\", 'Donnel Hill', 'Cooper', \"Night's Watch Man #15\", 'Fennesz', 'Meereenese Man', 'Leaf', 'Ternesio Terys', 'Melara Hetherspoon', 'Young Cersei Lannister', 'Maggy', 'Vala', 'White Rat', 'Strong Sam Stone', 'Royce Squire', 'Faceless Man', 'Inn Waitress', 'Eyrie Guard #1', 'Eyrie Knight', 'Eyrie Guard #2', 'Eyrie Guard #3', 'Lollys Stokeworth', 'Trystane Martell', 'Areo Hotah', 'Doran Martell', 'Dwarf Hunter #1', 'Dwarf Hunter #2', 'Shadow Tower Brother', 'Street Tough #1', 'Street Tough #2', 'Son of the Harpy', 'Meereenese Crowd', 'Despondent Man', 'The Waif', 'Bolton Guard #1', 'Bolton Guard #2', 'Bolton Guard #3', 'Old Woman', 'Beggar Woman', 'High Sparrow', 'Driver', 'Volantene Whore #1', 'Volantene Whore #2', 'Volantene Whore #3', 'Red Priestess', 'Volantene Crowd', 'Priestess', 'Brothel Guard', 'Sellsword', 'The Mother of Dragons', 'Clea', 'Merchant Captain', \"King's Landing Wine Merchant\", \"King's Landing Merchant\", 'Faith Militant #1', 'Brothel Client', 'Faith Militant #2', 'Faith Militant', 'Lead Dornish Guard', 'Tyene Sand', 'Obara Sand', 'Nymeria Sand', 'Bowen Marsh', 'Winter Town Man', 'Ghita', 'Malko', 'Slaver', 'Tyrell Rider', 'Derek', 'Brant', 'Yezzan Zo Qaggaz', 'Tyrell Guard', 'Slave Fighters', 'Slave Fight Man', 'Septa Unella', 'Thin Man', 'Braavosi Captain', 'Bolton Bannerman', \"Night's Watch Ranger\", 'Karsi', 'Loboda', 'Dim Dalba', 'Wun Wun', 'Wildling Man #3', 'Wildling Man #4', 'Willa', 'Wildling Man #5', 'Wildling Man #6', 'Wildling Man #7', 'Wildling Man #8', 'Stannis Baratheon Soldier #3', 'Sailor', 'Braavos Sailor', 'Lannister Guard #1', 'Brusco', 'Young Braavosi', 'Braavosi Madam', 'Lannister Guard #2', 'Pit Announcer', 'Quick Fighter', 'Strong Fighter', 'Stannis Baratheon General', 'Stannis Baratheon Soldier #4', 'Stannis Baratheon Soldier #5', 'Stannis Baratheon Soldier #6', \"King's Landing Flasher #1\", \"King's Landing Flasher #2\", \"Loyal Night's Watchman #1\", \"Loyal Night's Watchman #2\", 'Maester Wolkan', 'Bolton Officer', 'Maester Caleotte', 'Zanrush', 'Qhono', 'Akho', 'Dothraki Bloodrider #1', \"Moro's Wife #1\", \"Moro's Wife #2\", 'Khal Moro', 'Dothraki Bloodrider #2', 'Braavos Man #1', 'Braavos Man #2', 'Braavos Woman', 'Young Rodrik Cassel', 'Young Ned Stark', 'Young Benjen Stark', 'Young Lyanna Stark', 'Wyllis', 'Young Nan', \"King's Landing Boaster\", 'Lannister Captain', 'Harald Karstark', 'Euron Greyjoy', 'Aeron Greyjoy', 'Ironborn', 'Arthur Dayne', 'Gerold Hightower', 'High Priestess', 'Dothraki Matron', 'Frances', 'Smalljon Umber', 'Belicho Paenymion', 'Ash', 'Kesh', 'Iggo', 'Ornela', 'Khal Forzho', 'Khal Brozho', 'Khal Rhalko', 'Khal Qorro', 'Izembaro', 'Clarenzo', 'Lady Crane', 'Camello', 'Bobono', 'Bianca', 'The Night King', 'Ironborn Crowd', 'Kinvara', 'Rickard Stark', 'Melessa Tarly', 'Talla Tarly', 'Dickon Tarly', 'Randyll Tarly', 'Tyrell Captain', 'Villager Man #1', 'Villager Man #2', 'Brother Ray', 'Villager Man #3', 'Lyanna Mormont', 'Robett Glover', 'Northman Rioter', 'Wildling Rioter', 'Lem Lemoncloak', 'Westerosi Trader', \"The Waif's Disguise\", 'Stagehand', 'Gatins', 'Riddell', 'Steve', 'Tully Guard Captain', 'Tully Guard', 'Bolton Soldier #4', 'Bolton Soldier #5', 'Wildling #3', 'Bolton Soldier #6', 'Bolton Soldier #7', 'Bolton General', \"Tommen's Manservant\", 'Carriage Driver', 'Citadel Maester', 'Lyanna Stark', 'Cley Cerwyn', 'Wyman Manderly', 'Ned Umber', 'Alys Karstark', 'Archmaester Ebrose', 'Baby Sam', \"King's Landing Trader #1\", \"King's Landing Trader #2\", 'Ironborn #1', 'Ironborn #2', 'Harrag', 'Bernadette', 'Unsullied Soldier', 'Henk', 'Koner', 'Lannister Soldier #4', 'Lannister Soldier #5', 'Lannister Soldier #6', 'Lannister Soldier #7', 'Lannister Soldier #8', 'Lannister Soldier #9', 'Lannister Soldier #10', 'Lannister Soldier #11', 'Lannister Soldier #12', 'Lannister Soldier #13', 'Lannister Soldier #14', 'Lannister Soldier #15', 'Lannister Soldier #16', 'Lannister Soldier #17', 'Lannister Soldier #18', 'Maester Sandhu', 'Citadel Maester #1', 'Laurence Spellman', 'Kevin Eldon', 'Ironborn Man #3', 'Ironborn Men', 'Lannister General #1', 'Lannister Generals', 'Rhaegar Targaryen', 'Stark Bannerman', 'Winterfell Man #1', 'Winterfell Man #2', 'Harry Strickland', 'Dirah', 'Craya', 'Winterfell Man', 'Winterfell Smith #1', 'Winterfell Smith #2', 'Winterfell Man #3', 'Winterfell Man #4', 'Winterfell Man #5', 'Winterfell Smith', 'Winterfell Soldier #1', 'Winterfell Soldier #2', 'Winterfell Soldier #3', 'Winterfell Soldier #4', 'Winterfell Child #1', 'Fergus', 'Winterfell Woman #1', 'Winterfell Woman #2', 'Winterfell Woman #3', 'Teela', 'Winterfell Man #6', 'Winterfell Man #7', 'Winterfell Man #8', 'Winterfell Man #9', 'Winterfell Man #10', 'Mormont Man #1', 'Mormont Man #2', 'Winterfell Man #11', 'Northman #1', 'Northman #2', 'Northman #3', 'Northern Soldier #1', 'Northern Soldier #2', 'Northman #4', 'Mormont Soldier #1', 'Mormont Soldier #2', 'Mormont Soldier #3', 'Northern Soldier #3', 'Northern Soldier #4', 'Northman #5', 'Unsullied #1', 'Northern Woman #1', 'Northern Soldier #5', 'Northern Soldier #6', 'Northern Soldier #7', 'Northern Soldier #8', 'Northern Soldier #9', 'Northern Soldier #10', 'Northern Soldier #11', 'Northern Soldier #12', 'Northern Soldier #13', 'Northern Soldier #14', 'Northern Soldier #15', 'Northern Soldier #16', 'Northern Soldier #17', 'Northern Soldier #18', 'Unsullied #2', 'Unsullied #3', 'Northern Soldier #19', 'Northern Soldier #20', 'Northern Soldier #21', 'Northern Soldier #22', 'Northern Soldier #23', 'Northern Woman #2', 'Northern Soldier #24', 'Northern Soldier #25', 'Northern Soldier #26', 'Northern Soldier #27', 'Northern Soldier #28', 'Northern Soldier #29', 'Northern Soldier #30', 'Northern Soldier #31', 'Northern Soldier #32', 'Northern Soldier #33', 'Northern Soldier #34', 'Northern Soldier #35', 'Northern Woman #3', 'Winterfell Man #12', 'Winterfell Man #13', 'Winterfell Man #14', 'Winterfell Man #15', 'Winterfell Man #16', 'Tyrion Lannisters', 'Unsullied #4', 'Unsullied #5', 'Winterfell Man #17', 'Winterfell Woman #4', 'Winterfell Man #18', 'Winterfell Man #19', 'Winterfell Man #20', 'Winterfell Woman #5', 'Winterfell Man #21', \"King's Landing Captain\", 'Martha', \"King's Landing Guard #3\", 'Northern Guard #1', 'Unsullied Soldier #1', \"King's Landing Woman #1\", \"King's Landing Woman #2\", \"King's Landing Woman #3\", \"King's Landing Man #8\", \"King's Landing Woman #4\", 'Eleanor', \"King's Landing Woman #5\", \"King's Landing Child\", \"King's Landing Woman #6\", \"King's Landing Man #9\", \"King's Landing Man #10\", \"King's Landing Man #11\", 'Lannister Soldier #19', \"King's Landing Woman #7\", \"King's Landing Man #12\", \"King's Landing Man #13\", 'Ironborn Soldier #1', 'Ironborn Soldier #2', 'Lannister Soldier #20', 'Lannister Soldier #21', 'Golden Company Soldier #1', 'Golden Company Soldier #2', 'Lannister Soldier #22', \"King's Landing Man #14\", 'Lannister Soldier #23', 'Lannister Soldier #24', \"King's Landing Man #15\", \"King's Landing Man #16\", \"King's Landing Woman #8\", \"King's Landing Man #17\", \"King's Landing Man #18\", 'Lannister Soldier #25', \"King's Landing Man #19\", \"King's Landing Man #20\", \"King's Landing Woman #9\", \"King's Landing Man #21\", \"King's Landing Man #22\", \"King's Landing Man #23\", \"King's Landing Man #24\", \"King's Landing Man #25\", \"King's Landing Man #26\", \"King's Landing Man #27\", \"King's Landing Woman #10\", 'Lannister Soldier #26', \"King's Landing Woman #11\", 'Lannister Soldier #27', \"King's Landing Man #28\", 'Owen', \"King's Landing Man #29\", \"King's Landing Man #30\", \"King's Landing Woman #12\", \"King's Landing Man #31\", \"King's Landing Man #32\", \"Eleanor's Daughter\", 'Lord #1', 'Lord #2', 'Dornish Lord', 'Lord #3', 'Lord #4'])"
      ]
     },
     "execution_count": 39,
     "metadata": {},
     "output_type": "execute_result"
    }
   ],
   "source": [
    "dialogue.keys()"
   ]
  },
  {
   "cell_type": "code",
   "execution_count": 40,
   "id": "6645e9a5-7e6b-45b0-afe2-371d53da56ea",
   "metadata": {},
   "outputs": [],
   "source": [
    "newdf=pd.DataFrame()\n",
    "newdf['character']=dialogue.keys()\n",
    "newdf['words']=dialogue.values()"
   ]
  },
  {
   "cell_type": "code",
   "execution_count": 41,
   "id": "508eaa48-d6df-4058-b434-98999f4dd5ef",
   "metadata": {},
   "outputs": [
    {
     "data": {
      "text/html": [
       "<div>\n",
       "<style scoped>\n",
       "    .dataframe tbody tr th:only-of-type {\n",
       "        vertical-align: middle;\n",
       "    }\n",
       "\n",
       "    .dataframe tbody tr th {\n",
       "        vertical-align: top;\n",
       "    }\n",
       "\n",
       "    .dataframe thead th {\n",
       "        text-align: right;\n",
       "    }\n",
       "</style>\n",
       "<table border=\"1\" class=\"dataframe\">\n",
       "  <thead>\n",
       "    <tr style=\"text-align: right;\">\n",
       "      <th></th>\n",
       "      <th>character</th>\n",
       "      <th>words</th>\n",
       "    </tr>\n",
       "  </thead>\n",
       "  <tbody>\n",
       "    <tr>\n",
       "      <th>0</th>\n",
       "      <td>Will</td>\n",
       "      <td>Easy, boy. I've I've Wildlings a a do ever in ...</td>\n",
       "    </tr>\n",
       "    <tr>\n",
       "      <th>1</th>\n",
       "      <td>Waymar Royce</td>\n",
       "      <td>One They're What a and another before d'you ea...</td>\n",
       "    </tr>\n",
       "    <tr>\n",
       "      <th>2</th>\n",
       "      <td>Gared</td>\n",
       "      <td>Wall. We back head should the to Our They We W...</td>\n",
       "    </tr>\n",
       "    <tr>\n",
       "      <th>3</th>\n",
       "      <td>Jon Snow</td>\n",
       "      <td>Father's Go on. watching. And mother. yourBran...</td>\n",
       "    </tr>\n",
       "    <tr>\n",
       "      <th>4</th>\n",
       "      <td>Septa Mordane</td>\n",
       "      <td>Fine Well always. as done. work, I Quite beaut...</td>\n",
       "    </tr>\n",
       "    <tr>\n",
       "      <th>...</th>\n",
       "      <td>...</td>\n",
       "      <td>...</td>\n",
       "    </tr>\n",
       "    <tr>\n",
       "      <th>812</th>\n",
       "      <td>Lord #1</td>\n",
       "      <td>Aye. All Bran Broken! hail the</td>\n",
       "    </tr>\n",
       "    <tr>\n",
       "      <th>813</th>\n",
       "      <td>Lord #2</td>\n",
       "      <td>Aye. All Bran Broken! hail the</td>\n",
       "    </tr>\n",
       "    <tr>\n",
       "      <th>814</th>\n",
       "      <td>Dornish Lord</td>\n",
       "      <td>Aye. All Bran Broken! hail the</td>\n",
       "    </tr>\n",
       "    <tr>\n",
       "      <th>815</th>\n",
       "      <td>Lord #3</td>\n",
       "      <td>Aye. All Bran Broken! hail the</td>\n",
       "    </tr>\n",
       "    <tr>\n",
       "      <th>816</th>\n",
       "      <td>Lord #4</td>\n",
       "      <td>Aye. All Bran Broken! hail the</td>\n",
       "    </tr>\n",
       "  </tbody>\n",
       "</table>\n",
       "<p>817 rows × 2 columns</p>\n",
       "</div>"
      ],
      "text/plain": [
       "         character                                              words\n",
       "0             Will  Easy, boy. I've I've Wildlings a a do ever in ...\n",
       "1     Waymar Royce  One They're What a and another before d'you ea...\n",
       "2            Gared  Wall. We back head should the to Our They We W...\n",
       "3         Jon Snow  Father's Go on. watching. And mother. yourBran...\n",
       "4    Septa Mordane  Fine Well always. as done. work, I Quite beaut...\n",
       "..             ...                                                ...\n",
       "812        Lord #1                     Aye. All Bran Broken! hail the\n",
       "813        Lord #2                     Aye. All Bran Broken! hail the\n",
       "814   Dornish Lord                     Aye. All Bran Broken! hail the\n",
       "815        Lord #3                     Aye. All Bran Broken! hail the\n",
       "816        Lord #4                     Aye. All Bran Broken! hail the\n",
       "\n",
       "[817 rows x 2 columns]"
      ]
     },
     "execution_count": 41,
     "metadata": {},
     "output_type": "execute_result"
    }
   ],
   "source": [
    "newdf"
   ]
  },
  {
   "cell_type": "code",
   "execution_count": 42,
   "id": "1e086e91-0304-4bc3-99b8-42f961063ad1",
   "metadata": {},
   "outputs": [],
   "source": []
  },
  {
   "cell_type": "code",
   "execution_count": 45,
   "id": "45ecfe11-0627-4866-9f62-c351b867427a",
   "metadata": {},
   "outputs": [],
   "source": [
    "# for ind,row in newdf.iterrows():\n",
    "#     for i in row[\"words\"]:\n",
    "#         newdf[\"number\"]=len(i.split())"
   ]
  },
  {
   "cell_type": "code",
   "execution_count": 51,
   "id": "a676b2e7-1f0b-4ba8-b809-599f77796c42",
   "metadata": {},
   "outputs": [],
   "source": [
    "# Assuming 'words' column contains lists of strings\n",
    "newdf['number'] = newdf['words'].apply(lambda words: len(words.split()))\n"
   ]
  },
  {
   "cell_type": "code",
   "execution_count": 52,
   "id": "f586030a-51ec-40d0-84bb-e61fa1ba2a98",
   "metadata": {},
   "outputs": [
    {
     "data": {
      "text/html": [
       "<div>\n",
       "<style scoped>\n",
       "    .dataframe tbody tr th:only-of-type {\n",
       "        vertical-align: middle;\n",
       "    }\n",
       "\n",
       "    .dataframe tbody tr th {\n",
       "        vertical-align: top;\n",
       "    }\n",
       "\n",
       "    .dataframe thead th {\n",
       "        text-align: right;\n",
       "    }\n",
       "</style>\n",
       "<table border=\"1\" class=\"dataframe\">\n",
       "  <thead>\n",
       "    <tr style=\"text-align: right;\">\n",
       "      <th></th>\n",
       "      <th>character</th>\n",
       "      <th>words</th>\n",
       "      <th>no_of_words</th>\n",
       "      <th>number</th>\n",
       "    </tr>\n",
       "  </thead>\n",
       "  <tbody>\n",
       "    <tr>\n",
       "      <th>0</th>\n",
       "      <td>Will</td>\n",
       "      <td>Easy, boy. I've I've Wildlings a a do ever in ...</td>\n",
       "      <td>817</td>\n",
       "      <td>113</td>\n",
       "    </tr>\n",
       "    <tr>\n",
       "      <th>1</th>\n",
       "      <td>Waymar Royce</td>\n",
       "      <td>One They're What a and another before d'you ea...</td>\n",
       "      <td>817</td>\n",
       "      <td>94</td>\n",
       "    </tr>\n",
       "    <tr>\n",
       "      <th>2</th>\n",
       "      <td>Gared</td>\n",
       "      <td>Wall. We back head should the to Our They We W...</td>\n",
       "      <td>817</td>\n",
       "      <td>26</td>\n",
       "    </tr>\n",
       "    <tr>\n",
       "      <th>3</th>\n",
       "      <td>Jon Snow</td>\n",
       "      <td>Father's Go on. watching. And mother. yourBran...</td>\n",
       "      <td>817</td>\n",
       "      <td>11488</td>\n",
       "    </tr>\n",
       "    <tr>\n",
       "      <th>4</th>\n",
       "      <td>Septa Mordane</td>\n",
       "      <td>Fine Well always. as done. work, I Quite beaut...</td>\n",
       "      <td>817</td>\n",
       "      <td>290</td>\n",
       "    </tr>\n",
       "    <tr>\n",
       "      <th>...</th>\n",
       "      <td>...</td>\n",
       "      <td>...</td>\n",
       "      <td>...</td>\n",
       "      <td>...</td>\n",
       "    </tr>\n",
       "    <tr>\n",
       "      <th>812</th>\n",
       "      <td>Lord #1</td>\n",
       "      <td>Aye. All Bran Broken! hail the</td>\n",
       "      <td>817</td>\n",
       "      <td>6</td>\n",
       "    </tr>\n",
       "    <tr>\n",
       "      <th>813</th>\n",
       "      <td>Lord #2</td>\n",
       "      <td>Aye. All Bran Broken! hail the</td>\n",
       "      <td>817</td>\n",
       "      <td>6</td>\n",
       "    </tr>\n",
       "    <tr>\n",
       "      <th>814</th>\n",
       "      <td>Dornish Lord</td>\n",
       "      <td>Aye. All Bran Broken! hail the</td>\n",
       "      <td>817</td>\n",
       "      <td>6</td>\n",
       "    </tr>\n",
       "    <tr>\n",
       "      <th>815</th>\n",
       "      <td>Lord #3</td>\n",
       "      <td>Aye. All Bran Broken! hail the</td>\n",
       "      <td>817</td>\n",
       "      <td>6</td>\n",
       "    </tr>\n",
       "    <tr>\n",
       "      <th>816</th>\n",
       "      <td>Lord #4</td>\n",
       "      <td>Aye. All Bran Broken! hail the</td>\n",
       "      <td>817</td>\n",
       "      <td>6</td>\n",
       "    </tr>\n",
       "  </tbody>\n",
       "</table>\n",
       "<p>817 rows × 4 columns</p>\n",
       "</div>"
      ],
      "text/plain": [
       "         character                                              words  \\\n",
       "0             Will  Easy, boy. I've I've Wildlings a a do ever in ...   \n",
       "1     Waymar Royce  One They're What a and another before d'you ea...   \n",
       "2            Gared  Wall. We back head should the to Our They We W...   \n",
       "3         Jon Snow  Father's Go on. watching. And mother. yourBran...   \n",
       "4    Septa Mordane  Fine Well always. as done. work, I Quite beaut...   \n",
       "..             ...                                                ...   \n",
       "812        Lord #1                     Aye. All Bran Broken! hail the   \n",
       "813        Lord #2                     Aye. All Bran Broken! hail the   \n",
       "814   Dornish Lord                     Aye. All Bran Broken! hail the   \n",
       "815        Lord #3                     Aye. All Bran Broken! hail the   \n",
       "816        Lord #4                     Aye. All Bran Broken! hail the   \n",
       "\n",
       "     no_of_words  number  \n",
       "0            817     113  \n",
       "1            817      94  \n",
       "2            817      26  \n",
       "3            817   11488  \n",
       "4            817     290  \n",
       "..           ...     ...  \n",
       "812          817       6  \n",
       "813          817       6  \n",
       "814          817       6  \n",
       "815          817       6  \n",
       "816          817       6  \n",
       "\n",
       "[817 rows x 4 columns]"
      ]
     },
     "execution_count": 52,
     "metadata": {},
     "output_type": "execute_result"
    }
   ],
   "source": [
    "newdf"
   ]
  },
  {
   "cell_type": "code",
   "execution_count": 55,
   "id": "eb11f621-3ec2-45f0-bede-8114f5a5cd81",
   "metadata": {},
   "outputs": [],
   "source": [
    "newdf=newdf.sort_values(\"number\",ascending=False)"
   ]
  },
  {
   "cell_type": "code",
   "execution_count": 66,
   "id": "c0121ca1-e565-4677-a518-6bc9f28a2958",
   "metadata": {},
   "outputs": [
    {
     "data": {
      "text/html": [
       "<div>\n",
       "<style scoped>\n",
       "    .dataframe tbody tr th:only-of-type {\n",
       "        vertical-align: middle;\n",
       "    }\n",
       "\n",
       "    .dataframe tbody tr th {\n",
       "        vertical-align: top;\n",
       "    }\n",
       "\n",
       "    .dataframe thead th {\n",
       "        text-align: right;\n",
       "    }\n",
       "</style>\n",
       "<table border=\"1\" class=\"dataframe\">\n",
       "  <thead>\n",
       "    <tr style=\"text-align: right;\">\n",
       "      <th></th>\n",
       "      <th>character</th>\n",
       "      <th>words</th>\n",
       "      <th>no_of_words</th>\n",
       "      <th>number</th>\n",
       "    </tr>\n",
       "  </thead>\n",
       "  <tbody>\n",
       "    <tr>\n",
       "      <th>661</th>\n",
       "      <td>Harry Strickland</td>\n",
       "      <td>A Grace. Yes, Your died few in transit. Two th...</td>\n",
       "      <td>817</td>\n",
       "      <td>35</td>\n",
       "    </tr>\n",
       "    <tr>\n",
       "      <th>406</th>\n",
       "      <td>Night's Watch Man #3</td>\n",
       "      <td>Didn't I'd again. see think you Come Hold Hold...</td>\n",
       "      <td>817</td>\n",
       "      <td>28</td>\n",
       "    </tr>\n",
       "    <tr>\n",
       "      <th>782</th>\n",
       "      <td>Lannister Soldier #23</td>\n",
       "      <td>Ring bells! the</td>\n",
       "      <td>817</td>\n",
       "      <td>3</td>\n",
       "    </tr>\n",
       "    <tr>\n",
       "      <th>623</th>\n",
       "      <td>Archmaester Ebrose</td>\n",
       "      <td>A Ah, I Maester Mankind's The Weigh Weyland. c...</td>\n",
       "      <td>817</td>\n",
       "      <td>845</td>\n",
       "    </tr>\n",
       "    <tr>\n",
       "      <th>464</th>\n",
       "      <td>Old Woman</td>\n",
       "      <td>I'll You a bowl bring hot must of to want wash...</td>\n",
       "      <td>817</td>\n",
       "      <td>54</td>\n",
       "    </tr>\n",
       "    <tr>\n",
       "      <th>799</th>\n",
       "      <td>King's Landing Man #27</td>\n",
       "      <td>Come Hurry Now! on! up!</td>\n",
       "      <td>817</td>\n",
       "      <td>5</td>\n",
       "    </tr>\n",
       "    <tr>\n",
       "      <th>66</th>\n",
       "      <td>Bronn</td>\n",
       "      <td>You can have my room. Nothing You Your a a a a...</td>\n",
       "      <td>817</td>\n",
       "      <td>4336</td>\n",
       "    </tr>\n",
       "    <tr>\n",
       "      <th>336</th>\n",
       "      <td>Merry</td>\n",
       "      <td>I'm Merry.</td>\n",
       "      <td>817</td>\n",
       "      <td>2</td>\n",
       "    </tr>\n",
       "    <tr>\n",
       "      <th>505</th>\n",
       "      <td>Night's Watch Ranger</td>\n",
       "      <td>Watch bow! your</td>\n",
       "      <td>817</td>\n",
       "      <td>3</td>\n",
       "    </tr>\n",
       "    <tr>\n",
       "      <th>689</th>\n",
       "      <td>Northman #1</td>\n",
       "      <td>Oi! Move!</td>\n",
       "      <td>817</td>\n",
       "      <td>2</td>\n",
       "    </tr>\n",
       "    <tr>\n",
       "      <th>239</th>\n",
       "      <td>Silk King</td>\n",
       "      <td>Begging It ago long threatening us. us? very w...</td>\n",
       "      <td>817</td>\n",
       "      <td>11</td>\n",
       "    </tr>\n",
       "    <tr>\n",
       "      <th>478</th>\n",
       "      <td>Merchant Captain</td>\n",
       "      <td>Isle. Jaime. Sapphire Ser Tarth, The</td>\n",
       "      <td>817</td>\n",
       "      <td>6</td>\n",
       "    </tr>\n",
       "    <tr>\n",
       "      <th>683</th>\n",
       "      <td>Winterfell Man #8</td>\n",
       "      <td>Yes, sir. That's easy, isn't it?</td>\n",
       "      <td>817</td>\n",
       "      <td>6</td>\n",
       "    </tr>\n",
       "    <tr>\n",
       "      <th>584</th>\n",
       "      <td>Ironborn Crowd</td>\n",
       "      <td>Aye! Aye!Aye!Aye!Aye!Aye!Aye!Yara! Yara! Yara!...</td>\n",
       "      <td>817</td>\n",
       "      <td>17</td>\n",
       "    </tr>\n",
       "    <tr>\n",
       "      <th>287</th>\n",
       "      <td>Riverlands Traveller</td>\n",
       "      <td>Where are headed, then? you Riverrun. Staying ...</td>\n",
       "      <td>817</td>\n",
       "      <td>58</td>\n",
       "    </tr>\n",
       "    <tr>\n",
       "      <th>383</th>\n",
       "      <td>Olly</td>\n",
       "      <td>Mother eat. it's says time to Potatoes.Yes. Ye...</td>\n",
       "      <td>817</td>\n",
       "      <td>233</td>\n",
       "    </tr>\n",
       "    <tr>\n",
       "      <th>543</th>\n",
       "      <td>Moro's Wife #1</td>\n",
       "      <td>Chiorisi chandri maegi. tihi Zirisses hatif me...</td>\n",
       "      <td>817</td>\n",
       "      <td>25</td>\n",
       "    </tr>\n",
       "    <tr>\n",
       "      <th>90</th>\n",
       "      <td>Joss</td>\n",
       "      <td>'em Riverlands, They They They When again. and...</td>\n",
       "      <td>817</td>\n",
       "      <td>133</td>\n",
       "    </tr>\n",
       "    <tr>\n",
       "      <th>160</th>\n",
       "      <td>Yara Greyjoy</td>\n",
       "      <td>I I'm can heading take that there. way. you Or...</td>\n",
       "      <td>817</td>\n",
       "      <td>1699</td>\n",
       "    </tr>\n",
       "    <tr>\n",
       "      <th>540</th>\n",
       "      <td>Qhono</td>\n",
       "      <td>Ishish Mai anni inavvasi leyes leyes. majin me...</td>\n",
       "      <td>817</td>\n",
       "      <td>60</td>\n",
       "    </tr>\n",
       "    <tr>\n",
       "      <th>537</th>\n",
       "      <td>Bolton Officer</td>\n",
       "      <td>Tell down! settle them to Bolton? Lady Where i...</td>\n",
       "      <td>817</td>\n",
       "      <td>25</td>\n",
       "    </tr>\n",
       "    <tr>\n",
       "      <th>263</th>\n",
       "      <td>King's Landing Soldier #1</td>\n",
       "      <td>Get No! fool. up, you Yes.And The at gates. ga...</td>\n",
       "      <td>817</td>\n",
       "      <td>18</td>\n",
       "    </tr>\n",
       "    <tr>\n",
       "      <th>97</th>\n",
       "      <td>Jaremy Rykker</td>\n",
       "      <td>Rangers me. with</td>\n",
       "      <td>817</td>\n",
       "      <td>3</td>\n",
       "    </tr>\n",
       "    <tr>\n",
       "      <th>335</th>\n",
       "      <td>Prendahl Na Ghezn</td>\n",
       "      <td>He's He's a a captain. lieutenant. not If Our ...</td>\n",
       "      <td>817</td>\n",
       "      <td>52</td>\n",
       "    </tr>\n",
       "    <tr>\n",
       "      <th>751</th>\n",
       "      <td>Winterfell Woman #5</td>\n",
       "      <td>It's heavy, mind really you.</td>\n",
       "      <td>817</td>\n",
       "      <td>5</td>\n",
       "    </tr>\n",
       "    <tr>\n",
       "      <th>783</th>\n",
       "      <td>Lannister Soldier #24</td>\n",
       "      <td>Ring bells! the</td>\n",
       "      <td>817</td>\n",
       "      <td>3</td>\n",
       "    </tr>\n",
       "    <tr>\n",
       "      <th>236</th>\n",
       "      <td>Ironborn Man #2</td>\n",
       "      <td>Prince Theon. Open gate! theQueen! You be not ...</td>\n",
       "      <td>817</td>\n",
       "      <td>26</td>\n",
       "    </tr>\n",
       "    <tr>\n",
       "      <th>666</th>\n",
       "      <td>Winterfell Smith #2</td>\n",
       "      <td>Gendry? He's here.</td>\n",
       "      <td>817</td>\n",
       "      <td>3</td>\n",
       "    </tr>\n",
       "    <tr>\n",
       "      <th>596</th>\n",
       "      <td>Lyanna Mormont</td>\n",
       "      <td>Bear Island. Welcome to I My Robb. She She a a...</td>\n",
       "      <td>817</td>\n",
       "      <td>534</td>\n",
       "    </tr>\n",
       "    <tr>\n",
       "      <th>309</th>\n",
       "      <td>Marei</td>\n",
       "      <td>He's You didn't handsome. handsome. he me tell...</td>\n",
       "      <td>817</td>\n",
       "      <td>20</td>\n",
       "    </tr>\n",
       "    <tr>\n",
       "      <th>106</th>\n",
       "      <td>Night's Watch Man</td>\n",
       "      <td>A Aemon Commander, King's Landing. Lord Maeste...</td>\n",
       "      <td>817</td>\n",
       "      <td>39</td>\n",
       "    </tr>\n",
       "    <tr>\n",
       "      <th>621</th>\n",
       "      <td>Ned Umber</td>\n",
       "      <td>Now always! and And And Queen. Sorry. We and h...</td>\n",
       "      <td>817</td>\n",
       "      <td>21</td>\n",
       "    </tr>\n",
       "    <tr>\n",
       "      <th>590</th>\n",
       "      <td>Randyll Tarly</td>\n",
       "      <td>That's enough of that. Not already? enough fat...</td>\n",
       "      <td>817</td>\n",
       "      <td>581</td>\n",
       "    </tr>\n",
       "    <tr>\n",
       "      <th>458</th>\n",
       "      <td>Meereenese Crowd</td>\n",
       "      <td>Mhysa! Mhysa! Mhysa! Mhysa! Myhsa! Myhsa! Myhs...</td>\n",
       "      <td>817</td>\n",
       "      <td>9</td>\n",
       "    </tr>\n",
       "    <tr>\n",
       "      <th>305</th>\n",
       "      <td>Craster's Wife #1</td>\n",
       "      <td>I'll Tether They and be inside. it need some w...</td>\n",
       "      <td>817</td>\n",
       "      <td>14</td>\n",
       "    </tr>\n",
       "    <tr>\n",
       "      <th>765</th>\n",
       "      <td>King's Landing Child</td>\n",
       "      <td>Mommy. No.</td>\n",
       "      <td>817</td>\n",
       "      <td>2</td>\n",
       "    </tr>\n",
       "    <tr>\n",
       "      <th>586</th>\n",
       "      <td>Rickard Stark</td>\n",
       "      <td>Comport Remember Stark. Vale, a and are at dig...</td>\n",
       "      <td>817</td>\n",
       "      <td>27</td>\n",
       "    </tr>\n",
       "    <tr>\n",
       "      <th>565</th>\n",
       "      <td>Dothraki Matron</td>\n",
       "      <td>Anha Drogo Khal Kifindirgi Kisha adakh drivo? ...</td>\n",
       "      <td>817</td>\n",
       "      <td>185</td>\n",
       "    </tr>\n",
       "    <tr>\n",
       "      <th>470</th>\n",
       "      <td>Volantene Whore #3</td>\n",
       "      <td>Are ready? you</td>\n",
       "      <td>817</td>\n",
       "      <td>3</td>\n",
       "    </tr>\n",
       "    <tr>\n",
       "      <th>673</th>\n",
       "      <td>Winterfell Soldier #3</td>\n",
       "      <td>All Up right. the to wall. All right.</td>\n",
       "      <td>817</td>\n",
       "      <td>8</td>\n",
       "    </tr>\n",
       "    <tr>\n",
       "      <th>491</th>\n",
       "      <td>Ghita</td>\n",
       "      <td>It hurts.</td>\n",
       "      <td>817</td>\n",
       "      <td>2</td>\n",
       "    </tr>\n",
       "    <tr>\n",
       "      <th>29</th>\n",
       "      <td>Irri</td>\n",
       "      <td>Your hands. Dragon Khaleesi. gone,Brave It No ...</td>\n",
       "      <td>817</td>\n",
       "      <td>201</td>\n",
       "    </tr>\n",
       "    <tr>\n",
       "      <th>770</th>\n",
       "      <td>Lannister Soldier #19</td>\n",
       "      <td>The are gates locked now! Get back!Go It's Sta...</td>\n",
       "      <td>817</td>\n",
       "      <td>16</td>\n",
       "    </tr>\n",
       "    <tr>\n",
       "      <th>575</th>\n",
       "      <td>Khal Rhalko</td>\n",
       "      <td>Anha athyazhar fini khaleesisi. nesat ven ven ...</td>\n",
       "      <td>817</td>\n",
       "      <td>8</td>\n",
       "    </tr>\n",
       "    <tr>\n",
       "      <th>412</th>\n",
       "      <td>Adrack Humble</td>\n",
       "      <td>If Is here? it live? on paper says that this w...</td>\n",
       "      <td>817</td>\n",
       "      <td>14</td>\n",
       "    </tr>\n",
       "    <tr>\n",
       "      <th>215</th>\n",
       "      <td>King's Landing Man #1</td>\n",
       "      <td>Grace. Hail Hail Joffrey! King. Seven Your ble...</td>\n",
       "      <td>817</td>\n",
       "      <td>23</td>\n",
       "    </tr>\n",
       "    <tr>\n",
       "      <th>203</th>\n",
       "      <td>Reginald Lannister</td>\n",
       "      <td>Now Starks The a and fed. hard have have horse...</td>\n",
       "      <td>817</td>\n",
       "      <td>37</td>\n",
       "    </tr>\n",
       "    <tr>\n",
       "      <th>532</th>\n",
       "      <td>King's Landing Flasher #1</td>\n",
       "      <td>I'm Lannister. Suck Suck a bitch! me me off! o...</td>\n",
       "      <td>817</td>\n",
       "      <td>11</td>\n",
       "    </tr>\n",
       "    <tr>\n",
       "      <th>746</th>\n",
       "      <td>Winterfell Man #17</td>\n",
       "      <td>I'm about it. just start to All I'll another i...</td>\n",
       "      <td>817</td>\n",
       "      <td>14</td>\n",
       "    </tr>\n",
       "    <tr>\n",
       "      <th>692</th>\n",
       "      <td>Northern Soldier #1</td>\n",
       "      <td>Get crypt! down the to Careful that. with</td>\n",
       "      <td>817</td>\n",
       "      <td>8</td>\n",
       "    </tr>\n",
       "  </tbody>\n",
       "</table>\n",
       "</div>"
      ],
      "text/plain": [
       "                     character  \\\n",
       "661           Harry Strickland   \n",
       "406       Night's Watch Man #3   \n",
       "782      Lannister Soldier #23   \n",
       "623         Archmaester Ebrose   \n",
       "464                  Old Woman   \n",
       "799     King's Landing Man #27   \n",
       "66                       Bronn   \n",
       "336                      Merry   \n",
       "505       Night's Watch Ranger   \n",
       "689                Northman #1   \n",
       "239                  Silk King   \n",
       "478           Merchant Captain   \n",
       "683          Winterfell Man #8   \n",
       "584             Ironborn Crowd   \n",
       "287       Riverlands Traveller   \n",
       "383                       Olly   \n",
       "543             Moro's Wife #1   \n",
       "90                        Joss   \n",
       "160               Yara Greyjoy   \n",
       "540                      Qhono   \n",
       "537             Bolton Officer   \n",
       "263  King's Landing Soldier #1   \n",
       "97               Jaremy Rykker   \n",
       "335          Prendahl Na Ghezn   \n",
       "751        Winterfell Woman #5   \n",
       "783      Lannister Soldier #24   \n",
       "236            Ironborn Man #2   \n",
       "666        Winterfell Smith #2   \n",
       "596             Lyanna Mormont   \n",
       "309                      Marei   \n",
       "106          Night's Watch Man   \n",
       "621                  Ned Umber   \n",
       "590              Randyll Tarly   \n",
       "458           Meereenese Crowd   \n",
       "305          Craster's Wife #1   \n",
       "765       King's Landing Child   \n",
       "586              Rickard Stark   \n",
       "565            Dothraki Matron   \n",
       "470         Volantene Whore #3   \n",
       "673      Winterfell Soldier #3   \n",
       "491                      Ghita   \n",
       "29                        Irri   \n",
       "770      Lannister Soldier #19   \n",
       "575                Khal Rhalko   \n",
       "412              Adrack Humble   \n",
       "215      King's Landing Man #1   \n",
       "203         Reginald Lannister   \n",
       "532  King's Landing Flasher #1   \n",
       "746         Winterfell Man #17   \n",
       "692        Northern Soldier #1   \n",
       "\n",
       "                                                 words  no_of_words  number  \n",
       "661  A Grace. Yes, Your died few in transit. Two th...          817      35  \n",
       "406  Didn't I'd again. see think you Come Hold Hold...          817      28  \n",
       "782                                   Ring bells! the           817       3  \n",
       "623  A Ah, I Maester Mankind's The Weigh Weyland. c...          817     845  \n",
       "464  I'll You a bowl bring hot must of to want wash...          817      54  \n",
       "799                           Come Hurry Now! on! up!           817       5  \n",
       "66   You can have my room. Nothing You Your a a a a...          817    4336  \n",
       "336                                        I'm Merry.           817       2  \n",
       "505                                   Watch bow! your           817       3  \n",
       "689                                          Oi! Move!          817       2  \n",
       "239  Begging It ago long threatening us. us? very w...          817      11  \n",
       "478              Isle. Jaime. Sapphire Ser Tarth, The           817       6  \n",
       "683                   Yes, sir. That's easy, isn't it?          817       6  \n",
       "584  Aye! Aye!Aye!Aye!Aye!Aye!Aye!Yara! Yara! Yara!...          817      17  \n",
       "287  Where are headed, then? you Riverrun. Staying ...          817      58  \n",
       "383  Mother eat. it's says time to Potatoes.Yes. Ye...          817     233  \n",
       "543  Chiorisi chandri maegi. tihi Zirisses hatif me...          817      25  \n",
       "90   'em Riverlands, They They They When again. and...          817     133  \n",
       "160  I I'm can heading take that there. way. you Or...          817    1699  \n",
       "540  Ishish Mai anni inavvasi leyes leyes. majin me...          817      60  \n",
       "537  Tell down! settle them to Bolton? Lady Where i...          817      25  \n",
       "263  Get No! fool. up, you Yes.And The at gates. ga...          817      18  \n",
       "97                                   Rangers me. with           817       3  \n",
       "335  He's He's a a captain. lieutenant. not If Our ...          817      52  \n",
       "751                      It's heavy, mind really you.           817       5  \n",
       "783                                   Ring bells! the           817       3  \n",
       "236  Prince Theon. Open gate! theQueen! You be not ...          817      26  \n",
       "666                                Gendry? He's here.           817       3  \n",
       "596  Bear Island. Welcome to I My Robb. She She a a...          817     534  \n",
       "309  He's You didn't handsome. handsome. he me tell...          817      20  \n",
       "106  A Aemon Commander, King's Landing. Lord Maeste...          817      39  \n",
       "621  Now always! and And And Queen. Sorry. We and h...          817      21  \n",
       "590  That's enough of that. Not already? enough fat...          817     581  \n",
       "458  Mhysa! Mhysa! Mhysa! Mhysa! Myhsa! Myhsa! Myhs...          817       9  \n",
       "305  I'll Tether They and be inside. it need some w...          817      14  \n",
       "765                                        Mommy. No.           817       2  \n",
       "586  Comport Remember Stark. Vale, a and are at dig...          817      27  \n",
       "565  Anha Drogo Khal Kifindirgi Kisha adakh drivo? ...          817     185  \n",
       "470                                    Are ready? you           817       3  \n",
       "673              All Up right. the to wall. All right.          817       8  \n",
       "491                                         It hurts.           817       2  \n",
       "29   Your hands. Dragon Khaleesi. gone,Brave It No ...          817     201  \n",
       "770  The are gates locked now! Get back!Go It's Sta...          817      16  \n",
       "575  Anha athyazhar fini khaleesisi. nesat ven ven ...          817       8  \n",
       "412  If Is here? it live? on paper says that this w...          817      14  \n",
       "215  Grace. Hail Hail Joffrey! King. Seven Your ble...          817      23  \n",
       "203  Now Starks The a and fed. hard have have horse...          817      37  \n",
       "532  I'm Lannister. Suck Suck a bitch! me me off! o...          817      11  \n",
       "746  I'm about it. just start to All I'll another i...          817      14  \n",
       "692          Get crypt! down the to Careful that. with          817       8  "
      ]
     },
     "execution_count": 66,
     "metadata": {},
     "output_type": "execute_result"
    }
   ],
   "source": [
    "newdf.sample(50)"
   ]
  },
  {
   "cell_type": "code",
   "execution_count": 60,
   "id": "02fb3f65-7b2e-4605-8caa-ceeb69f9e514",
   "metadata": {},
   "outputs": [],
   "source": [
    "from sklearn.feature_extraction.text import CountVectorizer\n",
    "cv=CountVectorizer(stop_words='english')"
   ]
  },
  {
   "cell_type": "code",
   "execution_count": 65,
   "id": "05830847-f102-4ede-a465-aba203d3c3a4",
   "metadata": {},
   "outputs": [],
   "source": [
    "embeddings=cv.fit_transform(newdf[\"words\"]).toarray()"
   ]
  },
  {
   "cell_type": "code",
   "execution_count": 67,
   "id": "c0d4b998-9924-426e-a566-fbf717e64ca9",
   "metadata": {},
   "outputs": [
    {
     "data": {
      "text/plain": [
       "(817, 17102)"
      ]
     },
     "execution_count": 67,
     "metadata": {},
     "output_type": "execute_result"
    }
   ],
   "source": [
    "embeddings.shape"
   ]
  },
  {
   "cell_type": "code",
   "execution_count": 68,
   "id": "65bdcdf6-031b-4eda-b87f-80c3974d656d",
   "metadata": {},
   "outputs": [
    {
     "data": {
      "text/plain": [
       "array([[ 5,  1,  0, ...,  0,  0,  0],\n",
       "       [ 3,  0,  0, ...,  0,  0,  0],\n",
       "       [11,  0,  2, ...,  0,  0,  0],\n",
       "       ...,\n",
       "       [ 0,  0,  0, ...,  0,  0,  0],\n",
       "       [ 0,  0,  0, ...,  0,  0,  0],\n",
       "       [ 0,  0,  0, ...,  0,  0,  0]])"
      ]
     },
     "execution_count": 68,
     "metadata": {},
     "output_type": "execute_result"
    }
   ],
   "source": [
    "embeddings\n"
   ]
  },
  {
   "cell_type": "code",
   "execution_count": 69,
   "id": "2b421dc8-f240-43a1-b586-f82287bdd82f",
   "metadata": {},
   "outputs": [],
   "source": [
    "embeddings=embeddings.astype(\"float64\")\n"
   ]
  },
  {
   "cell_type": "code",
   "execution_count": 70,
   "id": "d2976248-156f-4f33-bbea-9293bdc4a8dc",
   "metadata": {},
   "outputs": [
    {
     "data": {
      "text/plain": [
       "array([[ 5.,  1.,  0., ...,  0.,  0.,  0.],\n",
       "       [ 3.,  0.,  0., ...,  0.,  0.,  0.],\n",
       "       [11.,  0.,  2., ...,  0.,  0.,  0.],\n",
       "       ...,\n",
       "       [ 0.,  0.,  0., ...,  0.,  0.,  0.],\n",
       "       [ 0.,  0.,  0., ...,  0.,  0.,  0.],\n",
       "       [ 0.,  0.,  0., ...,  0.,  0.,  0.]])"
      ]
     },
     "execution_count": 70,
     "metadata": {},
     "output_type": "execute_result"
    }
   ],
   "source": [
    "embeddings\n"
   ]
  },
  {
   "cell_type": "code",
   "execution_count": 71,
   "id": "f0f0942c-28cd-457d-9816-c3db4c2e907c",
   "metadata": {},
   "outputs": [],
   "source": [
    "from sklearn.manifold import TSNE\n"
   ]
  },
  {
   "cell_type": "code",
   "execution_count": 73,
   "id": "c22e4138-da0e-4139-a69a-65eb6d89c82b",
   "metadata": {},
   "outputs": [
    {
     "name": "stdout",
     "output_type": "stream",
     "text": [
      "[t-SNE] Computing 91 nearest neighbors...\n",
      "[t-SNE] Indexed 817 samples in 0.022s...\n",
      "[t-SNE] Computed neighbors for 817 samples in 1.787s...\n",
      "[t-SNE] Computed conditional probabilities for sample 817 / 817\n",
      "[t-SNE] Mean sigma: 0.000000\n",
      "[t-SNE] KL divergence after 250 iterations with early exaggeration: 63.417610\n",
      "[t-SNE] KL divergence after 1000 iterations: 1.340997\n"
     ]
    }
   ],
   "source": [
    "tsne=TSNE(n_components=2,verbose=1,random_state=123)\n",
    "z=tsne.fit_transform(embeddings)"
   ]
  },
  {
   "cell_type": "code",
   "execution_count": 74,
   "id": "1dfc2b4b-a586-46e6-8249-9bb482fc67cd",
   "metadata": {},
   "outputs": [
    {
     "data": {
      "text/plain": [
       "(817, 2)"
      ]
     },
     "execution_count": 74,
     "metadata": {},
     "output_type": "execute_result"
    }
   ],
   "source": [
    "z.shape"
   ]
  },
  {
   "cell_type": "code",
   "execution_count": 75,
   "id": "5499ca87-479c-4bdb-a11a-477454bae582",
   "metadata": {},
   "outputs": [
    {
     "data": {
      "text/plain": [
       "array([[21.432842 , 20.547808 ],\n",
       "       [20.892807 , 20.317835 ],\n",
       "       [21.180357 , 19.43447  ],\n",
       "       ...,\n",
       "       [-3.4110827, -2.1742918],\n",
       "       [-2.834541 , -1.1875235],\n",
       "       [-2.4938095, -1.0297425]], dtype=float32)"
      ]
     },
     "execution_count": 75,
     "metadata": {},
     "output_type": "execute_result"
    }
   ],
   "source": [
    "\n",
    "z"
   ]
  },
  {
   "cell_type": "code",
   "execution_count": 87,
   "id": "76cf4777-42b3-447c-b2ff-77a1d2c5395a",
   "metadata": {},
   "outputs": [],
   "source": [
    "\n",
    "newdf['X']=z.T[0]\n",
    "newdf['Y']=z.T[1]\n"
   ]
  },
  {
   "cell_type": "code",
   "execution_count": 88,
   "id": "a20b9bd6-bd2f-4c04-804d-8381b5137ec8",
   "metadata": {},
   "outputs": [
    {
     "data": {
      "text/html": [
       "<div>\n",
       "<style scoped>\n",
       "    .dataframe tbody tr th:only-of-type {\n",
       "        vertical-align: middle;\n",
       "    }\n",
       "\n",
       "    .dataframe tbody tr th {\n",
       "        vertical-align: top;\n",
       "    }\n",
       "\n",
       "    .dataframe thead th {\n",
       "        text-align: right;\n",
       "    }\n",
       "</style>\n",
       "<table border=\"1\" class=\"dataframe\">\n",
       "  <thead>\n",
       "    <tr style=\"text-align: right;\">\n",
       "      <th></th>\n",
       "      <th>character</th>\n",
       "      <th>words</th>\n",
       "      <th>no_of_words</th>\n",
       "      <th>number</th>\n",
       "      <th>x</th>\n",
       "      <th>y</th>\n",
       "      <th>X</th>\n",
       "      <th>Y</th>\n",
       "    </tr>\n",
       "  </thead>\n",
       "  <tbody>\n",
       "    <tr>\n",
       "      <th>17</th>\n",
       "      <td>Tyrion Lannister</td>\n",
       "      <td>It Mmh. Northern about girls. is say the they ...</td>\n",
       "      <td>817</td>\n",
       "      <td>25924</td>\n",
       "      <td>21.432842</td>\n",
       "      <td>20.547808</td>\n",
       "      <td>21.432842</td>\n",
       "      <td>20.547808</td>\n",
       "    </tr>\n",
       "    <tr>\n",
       "      <th>13</th>\n",
       "      <td>Cersei Lannister</td>\n",
       "      <td>And And Casterly One Rock. When about afraid. ...</td>\n",
       "      <td>817</td>\n",
       "      <td>14294</td>\n",
       "      <td>20.892807</td>\n",
       "      <td>20.317835</td>\n",
       "      <td>20.892807</td>\n",
       "      <td>20.317835</td>\n",
       "    </tr>\n",
       "    <tr>\n",
       "      <th>3</th>\n",
       "      <td>Jon Snow</td>\n",
       "      <td>Father's Go on. watching. And mother. yourBran...</td>\n",
       "      <td>817</td>\n",
       "      <td>11488</td>\n",
       "      <td>21.180357</td>\n",
       "      <td>19.434469</td>\n",
       "      <td>21.180357</td>\n",
       "      <td>19.434469</td>\n",
       "    </tr>\n",
       "    <tr>\n",
       "      <th>20</th>\n",
       "      <td>Daenerys Targaryen</td>\n",
       "      <td>We've a and anything. asked been for for guest...</td>\n",
       "      <td>817</td>\n",
       "      <td>11202</td>\n",
       "      <td>19.815313</td>\n",
       "      <td>20.541019</td>\n",
       "      <td>19.815313</td>\n",
       "      <td>20.541019</td>\n",
       "    </tr>\n",
       "    <tr>\n",
       "      <th>12</th>\n",
       "      <td>Jaime Lannister</td>\n",
       "      <td>As I It's brother, duty feel it's much. my sho...</td>\n",
       "      <td>817</td>\n",
       "      <td>10823</td>\n",
       "      <td>20.750481</td>\n",
       "      <td>19.888023</td>\n",
       "      <td>20.750481</td>\n",
       "      <td>19.888023</td>\n",
       "    </tr>\n",
       "    <tr>\n",
       "      <th>...</th>\n",
       "      <td>...</td>\n",
       "      <td>...</td>\n",
       "      <td>...</td>\n",
       "      <td>...</td>\n",
       "      <td>...</td>\n",
       "      <td>...</td>\n",
       "      <td>...</td>\n",
       "      <td>...</td>\n",
       "    </tr>\n",
       "    <tr>\n",
       "      <th>391</th>\n",
       "      <td>Great Master #1</td>\n",
       "      <td></td>\n",
       "      <td>817</td>\n",
       "      <td>0</td>\n",
       "      <td>-2.176098</td>\n",
       "      <td>-2.329128</td>\n",
       "      <td>-2.176098</td>\n",
       "      <td>-2.329128</td>\n",
       "    </tr>\n",
       "    <tr>\n",
       "      <th>402</th>\n",
       "      <td>Manservant</td>\n",
       "      <td></td>\n",
       "      <td>817</td>\n",
       "      <td>0</td>\n",
       "      <td>-1.778866</td>\n",
       "      <td>-3.729328</td>\n",
       "      <td>-1.778866</td>\n",
       "      <td>-3.729328</td>\n",
       "    </tr>\n",
       "    <tr>\n",
       "      <th>439</th>\n",
       "      <td>White Rat</td>\n",
       "      <td></td>\n",
       "      <td>817</td>\n",
       "      <td>0</td>\n",
       "      <td>-3.411083</td>\n",
       "      <td>-2.174292</td>\n",
       "      <td>-3.411083</td>\n",
       "      <td>-2.174292</td>\n",
       "    </tr>\n",
       "    <tr>\n",
       "      <th>474</th>\n",
       "      <td>Brothel Guard</td>\n",
       "      <td></td>\n",
       "      <td>817</td>\n",
       "      <td>0</td>\n",
       "      <td>-2.834541</td>\n",
       "      <td>-1.187523</td>\n",
       "      <td>-2.834541</td>\n",
       "      <td>-1.187523</td>\n",
       "    </tr>\n",
       "    <tr>\n",
       "      <th>432</th>\n",
       "      <td>Meereenese Man</td>\n",
       "      <td></td>\n",
       "      <td>817</td>\n",
       "      <td>0</td>\n",
       "      <td>-2.493809</td>\n",
       "      <td>-1.029742</td>\n",
       "      <td>-2.493809</td>\n",
       "      <td>-1.029742</td>\n",
       "    </tr>\n",
       "  </tbody>\n",
       "</table>\n",
       "<p>817 rows × 8 columns</p>\n",
       "</div>"
      ],
      "text/plain": [
       "              character                                              words  \\\n",
       "17     Tyrion Lannister  It Mmh. Northern about girls. is say the they ...   \n",
       "13     Cersei Lannister  And And Casterly One Rock. When about afraid. ...   \n",
       "3              Jon Snow  Father's Go on. watching. And mother. yourBran...   \n",
       "20   Daenerys Targaryen  We've a and anything. asked been for for guest...   \n",
       "12      Jaime Lannister  As I It's brother, duty feel it's much. my sho...   \n",
       "..                  ...                                                ...   \n",
       "391     Great Master #1                                                      \n",
       "402          Manservant                                                      \n",
       "439           White Rat                                                      \n",
       "474       Brothel Guard                                                      \n",
       "432      Meereenese Man                                                      \n",
       "\n",
       "     no_of_words  number          x          y          X          Y  \n",
       "17           817   25924  21.432842  20.547808  21.432842  20.547808  \n",
       "13           817   14294  20.892807  20.317835  20.892807  20.317835  \n",
       "3            817   11488  21.180357  19.434469  21.180357  19.434469  \n",
       "20           817   11202  19.815313  20.541019  19.815313  20.541019  \n",
       "12           817   10823  20.750481  19.888023  20.750481  19.888023  \n",
       "..           ...     ...        ...        ...        ...        ...  \n",
       "391          817       0  -2.176098  -2.329128  -2.176098  -2.329128  \n",
       "402          817       0  -1.778866  -3.729328  -1.778866  -3.729328  \n",
       "439          817       0  -3.411083  -2.174292  -3.411083  -2.174292  \n",
       "474          817       0  -2.834541  -1.187523  -2.834541  -1.187523  \n",
       "432          817       0  -2.493809  -1.029742  -2.493809  -1.029742  \n",
       "\n",
       "[817 rows x 8 columns]"
      ]
     },
     "execution_count": 88,
     "metadata": {},
     "output_type": "execute_result"
    }
   ],
   "source": [
    "newdf"
   ]
  },
  {
   "cell_type": "code",
   "execution_count": 81,
   "id": "ca4b36f7-9aff-42d6-94cd-f8aac342be81",
   "metadata": {},
   "outputs": [
    {
     "name": "stdout",
     "output_type": "stream",
     "text": [
      "Defaulting to user installation because normal site-packages is not writeable\n",
      "Collecting plotly\n",
      "  Downloading plotly-5.24.1-py3-none-any.whl (19.1 MB)\n",
      "\u001b[2K     \u001b[38;2;114;156;31m━━━━━━━━━━━━━━━━━━━━━━━━━━━━━━━━━━━━━━━━\u001b[0m \u001b[32m19.1/19.1 MB\u001b[0m \u001b[31m4.0 MB/s\u001b[0m eta \u001b[36m0:00:00\u001b[0m0m eta \u001b[36m0:00:01\u001b[0m0:01\u001b[0m:01\u001b[0m\n",
      "\u001b[?25hRequirement already satisfied: tenacity>=6.2.0 in ./.local/lib/python3.10/site-packages (from plotly) (8.2.3)\n",
      "Requirement already satisfied: packaging in ./.local/lib/python3.10/site-packages (from plotly) (23.2)\n",
      "Installing collected packages: plotly\n",
      "Successfully installed plotly-5.24.1\n",
      "Note: you may need to restart the kernel to use updated packages.\n"
     ]
    }
   ],
   "source": [
    "pip install plotly"
   ]
  },
  {
   "cell_type": "code",
   "execution_count": 103,
   "id": "3abace6f-72f2-4b6c-b2f5-d90123d43b9f",
   "metadata": {},
   "outputs": [],
   "source": [
    "import plotly.express as px\n",
    "import matplotlib.pyplot as plt\n",
    "import seaborn as sns\n",
    "a=newdf.head(25)"
   ]
  },
  {
   "cell_type": "code",
   "execution_count": 107,
   "id": "97ebfafd-3da1-485e-88c2-d00e587c2eb9",
   "metadata": {},
   "outputs": [],
   "source": [
    "fig=px.scatter(newdf.head(25),x='X',y='Y',color=\"character\")\n",
    "\n",
    "# plt.scatter(a['X'],a['y'],label=a[\"character\"])\n",
    "# sns.scatterplot(a,label=a[\"character\"])\n",
    "# plt.label()"
   ]
  },
  {
   "cell_type": "code",
   "execution_count": 108,
   "id": "85265d13-6adc-4017-91f2-882662d4befc",
   "metadata": {},
   "outputs": [
    {
     "data": {
      "application/vnd.plotly.v1+json": {
       "config": {
        "plotlyServerURL": "https://plot.ly"
       },
       "data": [
        {
         "hovertemplate": "character=Tyrion Lannister<br>X=%{x}<br>Y=%{y}<extra></extra>",
         "legendgroup": "Tyrion Lannister",
         "marker": {
          "color": "#636efa",
          "symbol": "circle"
         },
         "mode": "markers",
         "name": "Tyrion Lannister",
         "orientation": "v",
         "showlegend": true,
         "type": "scatter",
         "x": [
          21.432842254638672
         ],
         "xaxis": "x",
         "y": [
          20.547807693481445
         ],
         "yaxis": "y"
        },
        {
         "hovertemplate": "character=Cersei Lannister<br>X=%{x}<br>Y=%{y}<extra></extra>",
         "legendgroup": "Cersei Lannister",
         "marker": {
          "color": "#EF553B",
          "symbol": "circle"
         },
         "mode": "markers",
         "name": "Cersei Lannister",
         "orientation": "v",
         "showlegend": true,
         "type": "scatter",
         "x": [
          20.892807006835938
         ],
         "xaxis": "x",
         "y": [
          20.317834854125977
         ],
         "yaxis": "y"
        },
        {
         "hovertemplate": "character=Jon Snow<br>X=%{x}<br>Y=%{y}<extra></extra>",
         "legendgroup": "Jon Snow",
         "marker": {
          "color": "#00cc96",
          "symbol": "circle"
         },
         "mode": "markers",
         "name": "Jon Snow",
         "orientation": "v",
         "showlegend": true,
         "type": "scatter",
         "x": [
          21.180356979370117
         ],
         "xaxis": "x",
         "y": [
          19.43446922302246
         ],
         "yaxis": "y"
        },
        {
         "hovertemplate": "character=Daenerys Targaryen<br>X=%{x}<br>Y=%{y}<extra></extra>",
         "legendgroup": "Daenerys Targaryen",
         "marker": {
          "color": "#ab63fa",
          "symbol": "circle"
         },
         "mode": "markers",
         "name": "Daenerys Targaryen",
         "orientation": "v",
         "showlegend": true,
         "type": "scatter",
         "x": [
          19.8153133392334
         ],
         "xaxis": "x",
         "y": [
          20.541019439697266
         ],
         "yaxis": "y"
        },
        {
         "hovertemplate": "character=Jaime Lannister<br>X=%{x}<br>Y=%{y}<extra></extra>",
         "legendgroup": "Jaime Lannister",
         "marker": {
          "color": "#FFA15A",
          "symbol": "circle"
         },
         "mode": "markers",
         "name": "Jaime Lannister",
         "orientation": "v",
         "showlegend": true,
         "type": "scatter",
         "x": [
          20.75048065185547
         ],
         "xaxis": "x",
         "y": [
          19.888023376464844
         ],
         "yaxis": "y"
        },
        {
         "hovertemplate": "character=Sansa Stark<br>X=%{x}<br>Y=%{y}<extra></extra>",
         "legendgroup": "Sansa Stark",
         "marker": {
          "color": "#19d3f3",
          "symbol": "circle"
         },
         "mode": "markers",
         "name": "Sansa Stark",
         "orientation": "v",
         "showlegend": true,
         "type": "scatter",
         "x": [
          20.19179344177246
         ],
         "xaxis": "x",
         "y": [
          19.405691146850586
         ],
         "yaxis": "y"
        },
        {
         "hovertemplate": "character=Petyr Baelish<br>X=%{x}<br>Y=%{y}<extra></extra>",
         "legendgroup": "Petyr Baelish",
         "marker": {
          "color": "#FF6692",
          "symbol": "circle"
         },
         "mode": "markers",
         "name": "Petyr Baelish",
         "orientation": "v",
         "showlegend": true,
         "type": "scatter",
         "x": [
          19.218246459960938
         ],
         "xaxis": "x",
         "y": [
          19.894813537597656
         ],
         "yaxis": "y"
        },
        {
         "hovertemplate": "character=Lord Varys<br>X=%{x}<br>Y=%{y}<extra></extra>",
         "legendgroup": "Lord Varys",
         "marker": {
          "color": "#B6E880",
          "symbol": "circle"
         },
         "mode": "markers",
         "name": "Lord Varys",
         "orientation": "v",
         "showlegend": true,
         "type": "scatter",
         "x": [
          18.988304138183594
         ],
         "xaxis": "x",
         "y": [
          19.923965454101562
         ],
         "yaxis": "y"
        },
        {
         "hovertemplate": "character=Davos Seaworth<br>X=%{x}<br>Y=%{y}<extra></extra>",
         "legendgroup": "Davos Seaworth",
         "marker": {
          "color": "#FF97FF",
          "symbol": "circle"
         },
         "mode": "markers",
         "name": "Davos Seaworth",
         "orientation": "v",
         "showlegend": true,
         "type": "scatter",
         "x": [
          18.639787673950195
         ],
         "xaxis": "x",
         "y": [
          19.305891036987305
         ],
         "yaxis": "y"
        },
        {
         "hovertemplate": "character=Samwell Tarly<br>X=%{x}<br>Y=%{y}<extra></extra>",
         "legendgroup": "Samwell Tarly",
         "marker": {
          "color": "#FECB52",
          "symbol": "circle"
         },
         "mode": "markers",
         "name": "Samwell Tarly",
         "orientation": "v",
         "showlegend": true,
         "type": "scatter",
         "x": [
          19.690336227416992
         ],
         "xaxis": "x",
         "y": [
          17.405982971191406
         ],
         "yaxis": "y"
        },
        {
         "hovertemplate": "character=Arya Stark<br>X=%{x}<br>Y=%{y}<extra></extra>",
         "legendgroup": "Arya Stark",
         "marker": {
          "color": "#636efa",
          "symbol": "circle"
         },
         "mode": "markers",
         "name": "Arya Stark",
         "orientation": "v",
         "showlegend": true,
         "type": "scatter",
         "x": [
          20.588886260986328
         ],
         "xaxis": "x",
         "y": [
          18.22705841064453
         ],
         "yaxis": "y"
        },
        {
         "hovertemplate": "character=Tywin Lannister<br>X=%{x}<br>Y=%{y}<extra></extra>",
         "legendgroup": "Tywin Lannister",
         "marker": {
          "color": "#EF553B",
          "symbol": "circle"
         },
         "mode": "markers",
         "name": "Tywin Lannister",
         "orientation": "v",
         "showlegend": true,
         "type": "scatter",
         "x": [
          17.149892807006836
         ],
         "xaxis": "x",
         "y": [
          19.733125686645508
         ],
         "yaxis": "y"
        },
        {
         "hovertemplate": "character=Theon Greyjoy<br>X=%{x}<br>Y=%{y}<extra></extra>",
         "legendgroup": "Theon Greyjoy",
         "marker": {
          "color": "#00cc96",
          "symbol": "circle"
         },
         "mode": "markers",
         "name": "Theon Greyjoy",
         "orientation": "v",
         "showlegend": true,
         "type": "scatter",
         "x": [
          19.343507766723633
         ],
         "xaxis": "x",
         "y": [
          18.2520751953125
         ],
         "yaxis": "y"
        },
        {
         "hovertemplate": "character=Jorah Mormont<br>X=%{x}<br>Y=%{y}<extra></extra>",
         "legendgroup": "Jorah Mormont",
         "marker": {
          "color": "#ab63fa",
          "symbol": "circle"
         },
         "mode": "markers",
         "name": "Jorah Mormont",
         "orientation": "v",
         "showlegend": true,
         "type": "scatter",
         "x": [
          17.081315994262695
         ],
         "xaxis": "x",
         "y": [
          17.89060401916504
         ],
         "yaxis": "y"
        },
        {
         "hovertemplate": "character=Bronn<br>X=%{x}<br>Y=%{y}<extra></extra>",
         "legendgroup": "Bronn",
         "marker": {
          "color": "#FFA15A",
          "symbol": "circle"
         },
         "mode": "markers",
         "name": "Bronn",
         "orientation": "v",
         "showlegend": true,
         "type": "scatter",
         "x": [
          20.909791946411133
         ],
         "xaxis": "x",
         "y": [
          16.842336654663086
         ],
         "yaxis": "y"
        },
        {
         "hovertemplate": "character=Olenna Tyrell<br>X=%{x}<br>Y=%{y}<extra></extra>",
         "legendgroup": "Olenna Tyrell",
         "marker": {
          "color": "#19d3f3",
          "symbol": "circle"
         },
         "mode": "markers",
         "name": "Olenna Tyrell",
         "orientation": "v",
         "showlegend": true,
         "type": "scatter",
         "x": [
          17.003141403198242
         ],
         "xaxis": "x",
         "y": [
          15.328720092773438
         ],
         "yaxis": "y"
        },
        {
         "hovertemplate": "character=Brienne of Tarth<br>X=%{x}<br>Y=%{y}<extra></extra>",
         "legendgroup": "Brienne of Tarth",
         "marker": {
          "color": "#FF6692",
          "symbol": "circle"
         },
         "mode": "markers",
         "name": "Brienne of Tarth",
         "orientation": "v",
         "showlegend": true,
         "type": "scatter",
         "x": [
          16.100683212280273
         ],
         "xaxis": "x",
         "y": [
          17.263126373291016
         ],
         "yaxis": "y"
        },
        {
         "hovertemplate": "character=Sandor Clegane<br>X=%{x}<br>Y=%{y}<extra></extra>",
         "legendgroup": "Sandor Clegane",
         "marker": {
          "color": "#B6E880",
          "symbol": "circle"
         },
         "mode": "markers",
         "name": "Sandor Clegane",
         "orientation": "v",
         "showlegend": true,
         "type": "scatter",
         "x": [
          20.965660095214844
         ],
         "xaxis": "x",
         "y": [
          16.768726348876953
         ],
         "yaxis": "y"
        },
        {
         "hovertemplate": "character=Robb Stark<br>X=%{x}<br>Y=%{y}<extra></extra>",
         "legendgroup": "Robb Stark",
         "marker": {
          "color": "#FF97FF",
          "symbol": "circle"
         },
         "mode": "markers",
         "name": "Robb Stark",
         "orientation": "v",
         "showlegend": true,
         "type": "scatter",
         "x": [
          18.55171775817871
         ],
         "xaxis": "x",
         "y": [
          18.20912742614746
         ],
         "yaxis": "y"
        },
        {
         "hovertemplate": "character=Stannis Baratheon<br>X=%{x}<br>Y=%{y}<extra></extra>",
         "legendgroup": "Stannis Baratheon",
         "marker": {
          "color": "#FECB52",
          "symbol": "circle"
         },
         "mode": "markers",
         "name": "Stannis Baratheon",
         "orientation": "v",
         "showlegend": true,
         "type": "scatter",
         "x": [
          17.647315979003906
         ],
         "xaxis": "x",
         "y": [
          18.852100372314453
         ],
         "yaxis": "y"
        },
        {
         "hovertemplate": "character=Margaery Tyrell<br>X=%{x}<br>Y=%{y}<extra></extra>",
         "legendgroup": "Margaery Tyrell",
         "marker": {
          "color": "#636efa",
          "symbol": "circle"
         },
         "mode": "markers",
         "name": "Margaery Tyrell",
         "orientation": "v",
         "showlegend": true,
         "type": "scatter",
         "x": [
          16.027570724487305
         ],
         "xaxis": "x",
         "y": [
          15.574324607849121
         ],
         "yaxis": "y"
        },
        {
         "hovertemplate": "character=Catelyn Stark<br>X=%{x}<br>Y=%{y}<extra></extra>",
         "legendgroup": "Catelyn Stark",
         "marker": {
          "color": "#EF553B",
          "symbol": "circle"
         },
         "mode": "markers",
         "name": "Catelyn Stark",
         "orientation": "v",
         "showlegend": true,
         "type": "scatter",
         "x": [
          18.115921020507812
         ],
         "xaxis": "x",
         "y": [
          17.971538543701172
         ],
         "yaxis": "y"
        },
        {
         "hovertemplate": "character=Eddard Stark<br>X=%{x}<br>Y=%{y}<extra></extra>",
         "legendgroup": "Eddard Stark",
         "marker": {
          "color": "#00cc96",
          "symbol": "circle"
         },
         "mode": "markers",
         "name": "Eddard Stark",
         "orientation": "v",
         "showlegend": true,
         "type": "scatter",
         "x": [
          17.032012939453125
         ],
         "xaxis": "x",
         "y": [
          18.84880828857422
         ],
         "yaxis": "y"
        },
        {
         "hovertemplate": "character=Ramsay Snow<br>X=%{x}<br>Y=%{y}<extra></extra>",
         "legendgroup": "Ramsay Snow",
         "marker": {
          "color": "#ab63fa",
          "symbol": "circle"
         },
         "mode": "markers",
         "name": "Ramsay Snow",
         "orientation": "v",
         "showlegend": true,
         "type": "scatter",
         "x": [
          18.21483039855957
         ],
         "xaxis": "x",
         "y": [
          16.55684471130371
         ],
         "yaxis": "y"
        },
        {
         "hovertemplate": "character=Melisandre<br>X=%{x}<br>Y=%{y}<extra></extra>",
         "legendgroup": "Melisandre",
         "marker": {
          "color": "#FFA15A",
          "symbol": "circle"
         },
         "mode": "markers",
         "name": "Melisandre",
         "orientation": "v",
         "showlegend": true,
         "type": "scatter",
         "x": [
          12.811491966247559
         ],
         "xaxis": "x",
         "y": [
          17.040620803833008
         ],
         "yaxis": "y"
        }
       ],
       "layout": {
        "legend": {
         "title": {
          "text": "character"
         },
         "tracegroupgap": 0
        },
        "margin": {
         "t": 60
        },
        "template": {
         "data": {
          "bar": [
           {
            "error_x": {
             "color": "#2a3f5f"
            },
            "error_y": {
             "color": "#2a3f5f"
            },
            "marker": {
             "line": {
              "color": "#E5ECF6",
              "width": 0.5
             },
             "pattern": {
              "fillmode": "overlay",
              "size": 10,
              "solidity": 0.2
             }
            },
            "type": "bar"
           }
          ],
          "barpolar": [
           {
            "marker": {
             "line": {
              "color": "#E5ECF6",
              "width": 0.5
             },
             "pattern": {
              "fillmode": "overlay",
              "size": 10,
              "solidity": 0.2
             }
            },
            "type": "barpolar"
           }
          ],
          "carpet": [
           {
            "aaxis": {
             "endlinecolor": "#2a3f5f",
             "gridcolor": "white",
             "linecolor": "white",
             "minorgridcolor": "white",
             "startlinecolor": "#2a3f5f"
            },
            "baxis": {
             "endlinecolor": "#2a3f5f",
             "gridcolor": "white",
             "linecolor": "white",
             "minorgridcolor": "white",
             "startlinecolor": "#2a3f5f"
            },
            "type": "carpet"
           }
          ],
          "choropleth": [
           {
            "colorbar": {
             "outlinewidth": 0,
             "ticks": ""
            },
            "type": "choropleth"
           }
          ],
          "contour": [
           {
            "colorbar": {
             "outlinewidth": 0,
             "ticks": ""
            },
            "colorscale": [
             [
              0,
              "#0d0887"
             ],
             [
              0.1111111111111111,
              "#46039f"
             ],
             [
              0.2222222222222222,
              "#7201a8"
             ],
             [
              0.3333333333333333,
              "#9c179e"
             ],
             [
              0.4444444444444444,
              "#bd3786"
             ],
             [
              0.5555555555555556,
              "#d8576b"
             ],
             [
              0.6666666666666666,
              "#ed7953"
             ],
             [
              0.7777777777777778,
              "#fb9f3a"
             ],
             [
              0.8888888888888888,
              "#fdca26"
             ],
             [
              1,
              "#f0f921"
             ]
            ],
            "type": "contour"
           }
          ],
          "contourcarpet": [
           {
            "colorbar": {
             "outlinewidth": 0,
             "ticks": ""
            },
            "type": "contourcarpet"
           }
          ],
          "heatmap": [
           {
            "colorbar": {
             "outlinewidth": 0,
             "ticks": ""
            },
            "colorscale": [
             [
              0,
              "#0d0887"
             ],
             [
              0.1111111111111111,
              "#46039f"
             ],
             [
              0.2222222222222222,
              "#7201a8"
             ],
             [
              0.3333333333333333,
              "#9c179e"
             ],
             [
              0.4444444444444444,
              "#bd3786"
             ],
             [
              0.5555555555555556,
              "#d8576b"
             ],
             [
              0.6666666666666666,
              "#ed7953"
             ],
             [
              0.7777777777777778,
              "#fb9f3a"
             ],
             [
              0.8888888888888888,
              "#fdca26"
             ],
             [
              1,
              "#f0f921"
             ]
            ],
            "type": "heatmap"
           }
          ],
          "heatmapgl": [
           {
            "colorbar": {
             "outlinewidth": 0,
             "ticks": ""
            },
            "colorscale": [
             [
              0,
              "#0d0887"
             ],
             [
              0.1111111111111111,
              "#46039f"
             ],
             [
              0.2222222222222222,
              "#7201a8"
             ],
             [
              0.3333333333333333,
              "#9c179e"
             ],
             [
              0.4444444444444444,
              "#bd3786"
             ],
             [
              0.5555555555555556,
              "#d8576b"
             ],
             [
              0.6666666666666666,
              "#ed7953"
             ],
             [
              0.7777777777777778,
              "#fb9f3a"
             ],
             [
              0.8888888888888888,
              "#fdca26"
             ],
             [
              1,
              "#f0f921"
             ]
            ],
            "type": "heatmapgl"
           }
          ],
          "histogram": [
           {
            "marker": {
             "pattern": {
              "fillmode": "overlay",
              "size": 10,
              "solidity": 0.2
             }
            },
            "type": "histogram"
           }
          ],
          "histogram2d": [
           {
            "colorbar": {
             "outlinewidth": 0,
             "ticks": ""
            },
            "colorscale": [
             [
              0,
              "#0d0887"
             ],
             [
              0.1111111111111111,
              "#46039f"
             ],
             [
              0.2222222222222222,
              "#7201a8"
             ],
             [
              0.3333333333333333,
              "#9c179e"
             ],
             [
              0.4444444444444444,
              "#bd3786"
             ],
             [
              0.5555555555555556,
              "#d8576b"
             ],
             [
              0.6666666666666666,
              "#ed7953"
             ],
             [
              0.7777777777777778,
              "#fb9f3a"
             ],
             [
              0.8888888888888888,
              "#fdca26"
             ],
             [
              1,
              "#f0f921"
             ]
            ],
            "type": "histogram2d"
           }
          ],
          "histogram2dcontour": [
           {
            "colorbar": {
             "outlinewidth": 0,
             "ticks": ""
            },
            "colorscale": [
             [
              0,
              "#0d0887"
             ],
             [
              0.1111111111111111,
              "#46039f"
             ],
             [
              0.2222222222222222,
              "#7201a8"
             ],
             [
              0.3333333333333333,
              "#9c179e"
             ],
             [
              0.4444444444444444,
              "#bd3786"
             ],
             [
              0.5555555555555556,
              "#d8576b"
             ],
             [
              0.6666666666666666,
              "#ed7953"
             ],
             [
              0.7777777777777778,
              "#fb9f3a"
             ],
             [
              0.8888888888888888,
              "#fdca26"
             ],
             [
              1,
              "#f0f921"
             ]
            ],
            "type": "histogram2dcontour"
           }
          ],
          "mesh3d": [
           {
            "colorbar": {
             "outlinewidth": 0,
             "ticks": ""
            },
            "type": "mesh3d"
           }
          ],
          "parcoords": [
           {
            "line": {
             "colorbar": {
              "outlinewidth": 0,
              "ticks": ""
             }
            },
            "type": "parcoords"
           }
          ],
          "pie": [
           {
            "automargin": true,
            "type": "pie"
           }
          ],
          "scatter": [
           {
            "fillpattern": {
             "fillmode": "overlay",
             "size": 10,
             "solidity": 0.2
            },
            "type": "scatter"
           }
          ],
          "scatter3d": [
           {
            "line": {
             "colorbar": {
              "outlinewidth": 0,
              "ticks": ""
             }
            },
            "marker": {
             "colorbar": {
              "outlinewidth": 0,
              "ticks": ""
             }
            },
            "type": "scatter3d"
           }
          ],
          "scattercarpet": [
           {
            "marker": {
             "colorbar": {
              "outlinewidth": 0,
              "ticks": ""
             }
            },
            "type": "scattercarpet"
           }
          ],
          "scattergeo": [
           {
            "marker": {
             "colorbar": {
              "outlinewidth": 0,
              "ticks": ""
             }
            },
            "type": "scattergeo"
           }
          ],
          "scattergl": [
           {
            "marker": {
             "colorbar": {
              "outlinewidth": 0,
              "ticks": ""
             }
            },
            "type": "scattergl"
           }
          ],
          "scattermapbox": [
           {
            "marker": {
             "colorbar": {
              "outlinewidth": 0,
              "ticks": ""
             }
            },
            "type": "scattermapbox"
           }
          ],
          "scatterpolar": [
           {
            "marker": {
             "colorbar": {
              "outlinewidth": 0,
              "ticks": ""
             }
            },
            "type": "scatterpolar"
           }
          ],
          "scatterpolargl": [
           {
            "marker": {
             "colorbar": {
              "outlinewidth": 0,
              "ticks": ""
             }
            },
            "type": "scatterpolargl"
           }
          ],
          "scatterternary": [
           {
            "marker": {
             "colorbar": {
              "outlinewidth": 0,
              "ticks": ""
             }
            },
            "type": "scatterternary"
           }
          ],
          "surface": [
           {
            "colorbar": {
             "outlinewidth": 0,
             "ticks": ""
            },
            "colorscale": [
             [
              0,
              "#0d0887"
             ],
             [
              0.1111111111111111,
              "#46039f"
             ],
             [
              0.2222222222222222,
              "#7201a8"
             ],
             [
              0.3333333333333333,
              "#9c179e"
             ],
             [
              0.4444444444444444,
              "#bd3786"
             ],
             [
              0.5555555555555556,
              "#d8576b"
             ],
             [
              0.6666666666666666,
              "#ed7953"
             ],
             [
              0.7777777777777778,
              "#fb9f3a"
             ],
             [
              0.8888888888888888,
              "#fdca26"
             ],
             [
              1,
              "#f0f921"
             ]
            ],
            "type": "surface"
           }
          ],
          "table": [
           {
            "cells": {
             "fill": {
              "color": "#EBF0F8"
             },
             "line": {
              "color": "white"
             }
            },
            "header": {
             "fill": {
              "color": "#C8D4E3"
             },
             "line": {
              "color": "white"
             }
            },
            "type": "table"
           }
          ]
         },
         "layout": {
          "annotationdefaults": {
           "arrowcolor": "#2a3f5f",
           "arrowhead": 0,
           "arrowwidth": 1
          },
          "autotypenumbers": "strict",
          "coloraxis": {
           "colorbar": {
            "outlinewidth": 0,
            "ticks": ""
           }
          },
          "colorscale": {
           "diverging": [
            [
             0,
             "#8e0152"
            ],
            [
             0.1,
             "#c51b7d"
            ],
            [
             0.2,
             "#de77ae"
            ],
            [
             0.3,
             "#f1b6da"
            ],
            [
             0.4,
             "#fde0ef"
            ],
            [
             0.5,
             "#f7f7f7"
            ],
            [
             0.6,
             "#e6f5d0"
            ],
            [
             0.7,
             "#b8e186"
            ],
            [
             0.8,
             "#7fbc41"
            ],
            [
             0.9,
             "#4d9221"
            ],
            [
             1,
             "#276419"
            ]
           ],
           "sequential": [
            [
             0,
             "#0d0887"
            ],
            [
             0.1111111111111111,
             "#46039f"
            ],
            [
             0.2222222222222222,
             "#7201a8"
            ],
            [
             0.3333333333333333,
             "#9c179e"
            ],
            [
             0.4444444444444444,
             "#bd3786"
            ],
            [
             0.5555555555555556,
             "#d8576b"
            ],
            [
             0.6666666666666666,
             "#ed7953"
            ],
            [
             0.7777777777777778,
             "#fb9f3a"
            ],
            [
             0.8888888888888888,
             "#fdca26"
            ],
            [
             1,
             "#f0f921"
            ]
           ],
           "sequentialminus": [
            [
             0,
             "#0d0887"
            ],
            [
             0.1111111111111111,
             "#46039f"
            ],
            [
             0.2222222222222222,
             "#7201a8"
            ],
            [
             0.3333333333333333,
             "#9c179e"
            ],
            [
             0.4444444444444444,
             "#bd3786"
            ],
            [
             0.5555555555555556,
             "#d8576b"
            ],
            [
             0.6666666666666666,
             "#ed7953"
            ],
            [
             0.7777777777777778,
             "#fb9f3a"
            ],
            [
             0.8888888888888888,
             "#fdca26"
            ],
            [
             1,
             "#f0f921"
            ]
           ]
          },
          "colorway": [
           "#636efa",
           "#EF553B",
           "#00cc96",
           "#ab63fa",
           "#FFA15A",
           "#19d3f3",
           "#FF6692",
           "#B6E880",
           "#FF97FF",
           "#FECB52"
          ],
          "font": {
           "color": "#2a3f5f"
          },
          "geo": {
           "bgcolor": "white",
           "lakecolor": "white",
           "landcolor": "#E5ECF6",
           "showlakes": true,
           "showland": true,
           "subunitcolor": "white"
          },
          "hoverlabel": {
           "align": "left"
          },
          "hovermode": "closest",
          "mapbox": {
           "style": "light"
          },
          "paper_bgcolor": "white",
          "plot_bgcolor": "#E5ECF6",
          "polar": {
           "angularaxis": {
            "gridcolor": "white",
            "linecolor": "white",
            "ticks": ""
           },
           "bgcolor": "#E5ECF6",
           "radialaxis": {
            "gridcolor": "white",
            "linecolor": "white",
            "ticks": ""
           }
          },
          "scene": {
           "xaxis": {
            "backgroundcolor": "#E5ECF6",
            "gridcolor": "white",
            "gridwidth": 2,
            "linecolor": "white",
            "showbackground": true,
            "ticks": "",
            "zerolinecolor": "white"
           },
           "yaxis": {
            "backgroundcolor": "#E5ECF6",
            "gridcolor": "white",
            "gridwidth": 2,
            "linecolor": "white",
            "showbackground": true,
            "ticks": "",
            "zerolinecolor": "white"
           },
           "zaxis": {
            "backgroundcolor": "#E5ECF6",
            "gridcolor": "white",
            "gridwidth": 2,
            "linecolor": "white",
            "showbackground": true,
            "ticks": "",
            "zerolinecolor": "white"
           }
          },
          "shapedefaults": {
           "line": {
            "color": "#2a3f5f"
           }
          },
          "ternary": {
           "aaxis": {
            "gridcolor": "white",
            "linecolor": "white",
            "ticks": ""
           },
           "baxis": {
            "gridcolor": "white",
            "linecolor": "white",
            "ticks": ""
           },
           "bgcolor": "#E5ECF6",
           "caxis": {
            "gridcolor": "white",
            "linecolor": "white",
            "ticks": ""
           }
          },
          "title": {
           "x": 0.05
          },
          "xaxis": {
           "automargin": true,
           "gridcolor": "white",
           "linecolor": "white",
           "ticks": "",
           "title": {
            "standoff": 15
           },
           "zerolinecolor": "white",
           "zerolinewidth": 2
          },
          "yaxis": {
           "automargin": true,
           "gridcolor": "white",
           "linecolor": "white",
           "ticks": "",
           "title": {
            "standoff": 15
           },
           "zerolinecolor": "white",
           "zerolinewidth": 2
          }
         }
        },
        "xaxis": {
         "anchor": "y",
         "domain": [
          0,
          1
         ],
         "title": {
          "text": "X"
         }
        },
        "yaxis": {
         "anchor": "x",
         "domain": [
          0,
          1
         ],
         "title": {
          "text": "Y"
         }
        }
       }
      },
      "text/html": [
       "<div>                            <div id=\"8b45dc03-0507-4871-899c-404ca78ac4b8\" class=\"plotly-graph-div\" style=\"height:525px; width:100%;\"></div>            <script type=\"text/javascript\">                require([\"plotly\"], function(Plotly) {                    window.PLOTLYENV=window.PLOTLYENV || {};                                    if (document.getElementById(\"8b45dc03-0507-4871-899c-404ca78ac4b8\")) {                    Plotly.newPlot(                        \"8b45dc03-0507-4871-899c-404ca78ac4b8\",                        [{\"hovertemplate\":\"character=Tyrion Lannister\\u003cbr\\u003eX=%{x}\\u003cbr\\u003eY=%{y}\\u003cextra\\u003e\\u003c\\u002fextra\\u003e\",\"legendgroup\":\"Tyrion Lannister\",\"marker\":{\"color\":\"#636efa\",\"symbol\":\"circle\"},\"mode\":\"markers\",\"name\":\"Tyrion Lannister\",\"orientation\":\"v\",\"showlegend\":true,\"x\":[21.432842254638672],\"xaxis\":\"x\",\"y\":[20.547807693481445],\"yaxis\":\"y\",\"type\":\"scatter\"},{\"hovertemplate\":\"character=Cersei Lannister\\u003cbr\\u003eX=%{x}\\u003cbr\\u003eY=%{y}\\u003cextra\\u003e\\u003c\\u002fextra\\u003e\",\"legendgroup\":\"Cersei Lannister\",\"marker\":{\"color\":\"#EF553B\",\"symbol\":\"circle\"},\"mode\":\"markers\",\"name\":\"Cersei Lannister\",\"orientation\":\"v\",\"showlegend\":true,\"x\":[20.892807006835938],\"xaxis\":\"x\",\"y\":[20.317834854125977],\"yaxis\":\"y\",\"type\":\"scatter\"},{\"hovertemplate\":\"character=Jon Snow\\u003cbr\\u003eX=%{x}\\u003cbr\\u003eY=%{y}\\u003cextra\\u003e\\u003c\\u002fextra\\u003e\",\"legendgroup\":\"Jon Snow\",\"marker\":{\"color\":\"#00cc96\",\"symbol\":\"circle\"},\"mode\":\"markers\",\"name\":\"Jon Snow\",\"orientation\":\"v\",\"showlegend\":true,\"x\":[21.180356979370117],\"xaxis\":\"x\",\"y\":[19.43446922302246],\"yaxis\":\"y\",\"type\":\"scatter\"},{\"hovertemplate\":\"character=Daenerys Targaryen\\u003cbr\\u003eX=%{x}\\u003cbr\\u003eY=%{y}\\u003cextra\\u003e\\u003c\\u002fextra\\u003e\",\"legendgroup\":\"Daenerys Targaryen\",\"marker\":{\"color\":\"#ab63fa\",\"symbol\":\"circle\"},\"mode\":\"markers\",\"name\":\"Daenerys Targaryen\",\"orientation\":\"v\",\"showlegend\":true,\"x\":[19.8153133392334],\"xaxis\":\"x\",\"y\":[20.541019439697266],\"yaxis\":\"y\",\"type\":\"scatter\"},{\"hovertemplate\":\"character=Jaime Lannister\\u003cbr\\u003eX=%{x}\\u003cbr\\u003eY=%{y}\\u003cextra\\u003e\\u003c\\u002fextra\\u003e\",\"legendgroup\":\"Jaime Lannister\",\"marker\":{\"color\":\"#FFA15A\",\"symbol\":\"circle\"},\"mode\":\"markers\",\"name\":\"Jaime Lannister\",\"orientation\":\"v\",\"showlegend\":true,\"x\":[20.75048065185547],\"xaxis\":\"x\",\"y\":[19.888023376464844],\"yaxis\":\"y\",\"type\":\"scatter\"},{\"hovertemplate\":\"character=Sansa Stark\\u003cbr\\u003eX=%{x}\\u003cbr\\u003eY=%{y}\\u003cextra\\u003e\\u003c\\u002fextra\\u003e\",\"legendgroup\":\"Sansa Stark\",\"marker\":{\"color\":\"#19d3f3\",\"symbol\":\"circle\"},\"mode\":\"markers\",\"name\":\"Sansa Stark\",\"orientation\":\"v\",\"showlegend\":true,\"x\":[20.19179344177246],\"xaxis\":\"x\",\"y\":[19.405691146850586],\"yaxis\":\"y\",\"type\":\"scatter\"},{\"hovertemplate\":\"character=Petyr Baelish\\u003cbr\\u003eX=%{x}\\u003cbr\\u003eY=%{y}\\u003cextra\\u003e\\u003c\\u002fextra\\u003e\",\"legendgroup\":\"Petyr Baelish\",\"marker\":{\"color\":\"#FF6692\",\"symbol\":\"circle\"},\"mode\":\"markers\",\"name\":\"Petyr Baelish\",\"orientation\":\"v\",\"showlegend\":true,\"x\":[19.218246459960938],\"xaxis\":\"x\",\"y\":[19.894813537597656],\"yaxis\":\"y\",\"type\":\"scatter\"},{\"hovertemplate\":\"character=Lord Varys\\u003cbr\\u003eX=%{x}\\u003cbr\\u003eY=%{y}\\u003cextra\\u003e\\u003c\\u002fextra\\u003e\",\"legendgroup\":\"Lord Varys\",\"marker\":{\"color\":\"#B6E880\",\"symbol\":\"circle\"},\"mode\":\"markers\",\"name\":\"Lord Varys\",\"orientation\":\"v\",\"showlegend\":true,\"x\":[18.988304138183594],\"xaxis\":\"x\",\"y\":[19.923965454101562],\"yaxis\":\"y\",\"type\":\"scatter\"},{\"hovertemplate\":\"character=Davos Seaworth\\u003cbr\\u003eX=%{x}\\u003cbr\\u003eY=%{y}\\u003cextra\\u003e\\u003c\\u002fextra\\u003e\",\"legendgroup\":\"Davos Seaworth\",\"marker\":{\"color\":\"#FF97FF\",\"symbol\":\"circle\"},\"mode\":\"markers\",\"name\":\"Davos Seaworth\",\"orientation\":\"v\",\"showlegend\":true,\"x\":[18.639787673950195],\"xaxis\":\"x\",\"y\":[19.305891036987305],\"yaxis\":\"y\",\"type\":\"scatter\"},{\"hovertemplate\":\"character=Samwell Tarly\\u003cbr\\u003eX=%{x}\\u003cbr\\u003eY=%{y}\\u003cextra\\u003e\\u003c\\u002fextra\\u003e\",\"legendgroup\":\"Samwell Tarly\",\"marker\":{\"color\":\"#FECB52\",\"symbol\":\"circle\"},\"mode\":\"markers\",\"name\":\"Samwell Tarly\",\"orientation\":\"v\",\"showlegend\":true,\"x\":[19.690336227416992],\"xaxis\":\"x\",\"y\":[17.405982971191406],\"yaxis\":\"y\",\"type\":\"scatter\"},{\"hovertemplate\":\"character=Arya Stark\\u003cbr\\u003eX=%{x}\\u003cbr\\u003eY=%{y}\\u003cextra\\u003e\\u003c\\u002fextra\\u003e\",\"legendgroup\":\"Arya Stark\",\"marker\":{\"color\":\"#636efa\",\"symbol\":\"circle\"},\"mode\":\"markers\",\"name\":\"Arya Stark\",\"orientation\":\"v\",\"showlegend\":true,\"x\":[20.588886260986328],\"xaxis\":\"x\",\"y\":[18.22705841064453],\"yaxis\":\"y\",\"type\":\"scatter\"},{\"hovertemplate\":\"character=Tywin Lannister\\u003cbr\\u003eX=%{x}\\u003cbr\\u003eY=%{y}\\u003cextra\\u003e\\u003c\\u002fextra\\u003e\",\"legendgroup\":\"Tywin Lannister\",\"marker\":{\"color\":\"#EF553B\",\"symbol\":\"circle\"},\"mode\":\"markers\",\"name\":\"Tywin Lannister\",\"orientation\":\"v\",\"showlegend\":true,\"x\":[17.149892807006836],\"xaxis\":\"x\",\"y\":[19.733125686645508],\"yaxis\":\"y\",\"type\":\"scatter\"},{\"hovertemplate\":\"character=Theon Greyjoy\\u003cbr\\u003eX=%{x}\\u003cbr\\u003eY=%{y}\\u003cextra\\u003e\\u003c\\u002fextra\\u003e\",\"legendgroup\":\"Theon Greyjoy\",\"marker\":{\"color\":\"#00cc96\",\"symbol\":\"circle\"},\"mode\":\"markers\",\"name\":\"Theon Greyjoy\",\"orientation\":\"v\",\"showlegend\":true,\"x\":[19.343507766723633],\"xaxis\":\"x\",\"y\":[18.2520751953125],\"yaxis\":\"y\",\"type\":\"scatter\"},{\"hovertemplate\":\"character=Jorah Mormont\\u003cbr\\u003eX=%{x}\\u003cbr\\u003eY=%{y}\\u003cextra\\u003e\\u003c\\u002fextra\\u003e\",\"legendgroup\":\"Jorah Mormont\",\"marker\":{\"color\":\"#ab63fa\",\"symbol\":\"circle\"},\"mode\":\"markers\",\"name\":\"Jorah Mormont\",\"orientation\":\"v\",\"showlegend\":true,\"x\":[17.081315994262695],\"xaxis\":\"x\",\"y\":[17.89060401916504],\"yaxis\":\"y\",\"type\":\"scatter\"},{\"hovertemplate\":\"character=Bronn\\u003cbr\\u003eX=%{x}\\u003cbr\\u003eY=%{y}\\u003cextra\\u003e\\u003c\\u002fextra\\u003e\",\"legendgroup\":\"Bronn\",\"marker\":{\"color\":\"#FFA15A\",\"symbol\":\"circle\"},\"mode\":\"markers\",\"name\":\"Bronn\",\"orientation\":\"v\",\"showlegend\":true,\"x\":[20.909791946411133],\"xaxis\":\"x\",\"y\":[16.842336654663086],\"yaxis\":\"y\",\"type\":\"scatter\"},{\"hovertemplate\":\"character=Olenna Tyrell\\u003cbr\\u003eX=%{x}\\u003cbr\\u003eY=%{y}\\u003cextra\\u003e\\u003c\\u002fextra\\u003e\",\"legendgroup\":\"Olenna Tyrell\",\"marker\":{\"color\":\"#19d3f3\",\"symbol\":\"circle\"},\"mode\":\"markers\",\"name\":\"Olenna Tyrell\",\"orientation\":\"v\",\"showlegend\":true,\"x\":[17.003141403198242],\"xaxis\":\"x\",\"y\":[15.328720092773438],\"yaxis\":\"y\",\"type\":\"scatter\"},{\"hovertemplate\":\"character=Brienne of Tarth\\u003cbr\\u003eX=%{x}\\u003cbr\\u003eY=%{y}\\u003cextra\\u003e\\u003c\\u002fextra\\u003e\",\"legendgroup\":\"Brienne of Tarth\",\"marker\":{\"color\":\"#FF6692\",\"symbol\":\"circle\"},\"mode\":\"markers\",\"name\":\"Brienne of Tarth\",\"orientation\":\"v\",\"showlegend\":true,\"x\":[16.100683212280273],\"xaxis\":\"x\",\"y\":[17.263126373291016],\"yaxis\":\"y\",\"type\":\"scatter\"},{\"hovertemplate\":\"character=Sandor Clegane\\u003cbr\\u003eX=%{x}\\u003cbr\\u003eY=%{y}\\u003cextra\\u003e\\u003c\\u002fextra\\u003e\",\"legendgroup\":\"Sandor Clegane\",\"marker\":{\"color\":\"#B6E880\",\"symbol\":\"circle\"},\"mode\":\"markers\",\"name\":\"Sandor Clegane\",\"orientation\":\"v\",\"showlegend\":true,\"x\":[20.965660095214844],\"xaxis\":\"x\",\"y\":[16.768726348876953],\"yaxis\":\"y\",\"type\":\"scatter\"},{\"hovertemplate\":\"character=Robb Stark\\u003cbr\\u003eX=%{x}\\u003cbr\\u003eY=%{y}\\u003cextra\\u003e\\u003c\\u002fextra\\u003e\",\"legendgroup\":\"Robb Stark\",\"marker\":{\"color\":\"#FF97FF\",\"symbol\":\"circle\"},\"mode\":\"markers\",\"name\":\"Robb Stark\",\"orientation\":\"v\",\"showlegend\":true,\"x\":[18.55171775817871],\"xaxis\":\"x\",\"y\":[18.20912742614746],\"yaxis\":\"y\",\"type\":\"scatter\"},{\"hovertemplate\":\"character=Stannis Baratheon\\u003cbr\\u003eX=%{x}\\u003cbr\\u003eY=%{y}\\u003cextra\\u003e\\u003c\\u002fextra\\u003e\",\"legendgroup\":\"Stannis Baratheon\",\"marker\":{\"color\":\"#FECB52\",\"symbol\":\"circle\"},\"mode\":\"markers\",\"name\":\"Stannis Baratheon\",\"orientation\":\"v\",\"showlegend\":true,\"x\":[17.647315979003906],\"xaxis\":\"x\",\"y\":[18.852100372314453],\"yaxis\":\"y\",\"type\":\"scatter\"},{\"hovertemplate\":\"character=Margaery Tyrell\\u003cbr\\u003eX=%{x}\\u003cbr\\u003eY=%{y}\\u003cextra\\u003e\\u003c\\u002fextra\\u003e\",\"legendgroup\":\"Margaery Tyrell\",\"marker\":{\"color\":\"#636efa\",\"symbol\":\"circle\"},\"mode\":\"markers\",\"name\":\"Margaery Tyrell\",\"orientation\":\"v\",\"showlegend\":true,\"x\":[16.027570724487305],\"xaxis\":\"x\",\"y\":[15.574324607849121],\"yaxis\":\"y\",\"type\":\"scatter\"},{\"hovertemplate\":\"character=Catelyn Stark\\u003cbr\\u003eX=%{x}\\u003cbr\\u003eY=%{y}\\u003cextra\\u003e\\u003c\\u002fextra\\u003e\",\"legendgroup\":\"Catelyn Stark\",\"marker\":{\"color\":\"#EF553B\",\"symbol\":\"circle\"},\"mode\":\"markers\",\"name\":\"Catelyn Stark\",\"orientation\":\"v\",\"showlegend\":true,\"x\":[18.115921020507812],\"xaxis\":\"x\",\"y\":[17.971538543701172],\"yaxis\":\"y\",\"type\":\"scatter\"},{\"hovertemplate\":\"character=Eddard Stark\\u003cbr\\u003eX=%{x}\\u003cbr\\u003eY=%{y}\\u003cextra\\u003e\\u003c\\u002fextra\\u003e\",\"legendgroup\":\"Eddard Stark\",\"marker\":{\"color\":\"#00cc96\",\"symbol\":\"circle\"},\"mode\":\"markers\",\"name\":\"Eddard Stark\",\"orientation\":\"v\",\"showlegend\":true,\"x\":[17.032012939453125],\"xaxis\":\"x\",\"y\":[18.84880828857422],\"yaxis\":\"y\",\"type\":\"scatter\"},{\"hovertemplate\":\"character=Ramsay Snow\\u003cbr\\u003eX=%{x}\\u003cbr\\u003eY=%{y}\\u003cextra\\u003e\\u003c\\u002fextra\\u003e\",\"legendgroup\":\"Ramsay Snow\",\"marker\":{\"color\":\"#ab63fa\",\"symbol\":\"circle\"},\"mode\":\"markers\",\"name\":\"Ramsay Snow\",\"orientation\":\"v\",\"showlegend\":true,\"x\":[18.21483039855957],\"xaxis\":\"x\",\"y\":[16.55684471130371],\"yaxis\":\"y\",\"type\":\"scatter\"},{\"hovertemplate\":\"character=Melisandre\\u003cbr\\u003eX=%{x}\\u003cbr\\u003eY=%{y}\\u003cextra\\u003e\\u003c\\u002fextra\\u003e\",\"legendgroup\":\"Melisandre\",\"marker\":{\"color\":\"#FFA15A\",\"symbol\":\"circle\"},\"mode\":\"markers\",\"name\":\"Melisandre\",\"orientation\":\"v\",\"showlegend\":true,\"x\":[12.811491966247559],\"xaxis\":\"x\",\"y\":[17.040620803833008],\"yaxis\":\"y\",\"type\":\"scatter\"}],                        {\"template\":{\"data\":{\"histogram2dcontour\":[{\"type\":\"histogram2dcontour\",\"colorbar\":{\"outlinewidth\":0,\"ticks\":\"\"},\"colorscale\":[[0.0,\"#0d0887\"],[0.1111111111111111,\"#46039f\"],[0.2222222222222222,\"#7201a8\"],[0.3333333333333333,\"#9c179e\"],[0.4444444444444444,\"#bd3786\"],[0.5555555555555556,\"#d8576b\"],[0.6666666666666666,\"#ed7953\"],[0.7777777777777778,\"#fb9f3a\"],[0.8888888888888888,\"#fdca26\"],[1.0,\"#f0f921\"]]}],\"choropleth\":[{\"type\":\"choropleth\",\"colorbar\":{\"outlinewidth\":0,\"ticks\":\"\"}}],\"histogram2d\":[{\"type\":\"histogram2d\",\"colorbar\":{\"outlinewidth\":0,\"ticks\":\"\"},\"colorscale\":[[0.0,\"#0d0887\"],[0.1111111111111111,\"#46039f\"],[0.2222222222222222,\"#7201a8\"],[0.3333333333333333,\"#9c179e\"],[0.4444444444444444,\"#bd3786\"],[0.5555555555555556,\"#d8576b\"],[0.6666666666666666,\"#ed7953\"],[0.7777777777777778,\"#fb9f3a\"],[0.8888888888888888,\"#fdca26\"],[1.0,\"#f0f921\"]]}],\"heatmap\":[{\"type\":\"heatmap\",\"colorbar\":{\"outlinewidth\":0,\"ticks\":\"\"},\"colorscale\":[[0.0,\"#0d0887\"],[0.1111111111111111,\"#46039f\"],[0.2222222222222222,\"#7201a8\"],[0.3333333333333333,\"#9c179e\"],[0.4444444444444444,\"#bd3786\"],[0.5555555555555556,\"#d8576b\"],[0.6666666666666666,\"#ed7953\"],[0.7777777777777778,\"#fb9f3a\"],[0.8888888888888888,\"#fdca26\"],[1.0,\"#f0f921\"]]}],\"heatmapgl\":[{\"type\":\"heatmapgl\",\"colorbar\":{\"outlinewidth\":0,\"ticks\":\"\"},\"colorscale\":[[0.0,\"#0d0887\"],[0.1111111111111111,\"#46039f\"],[0.2222222222222222,\"#7201a8\"],[0.3333333333333333,\"#9c179e\"],[0.4444444444444444,\"#bd3786\"],[0.5555555555555556,\"#d8576b\"],[0.6666666666666666,\"#ed7953\"],[0.7777777777777778,\"#fb9f3a\"],[0.8888888888888888,\"#fdca26\"],[1.0,\"#f0f921\"]]}],\"contourcarpet\":[{\"type\":\"contourcarpet\",\"colorbar\":{\"outlinewidth\":0,\"ticks\":\"\"}}],\"contour\":[{\"type\":\"contour\",\"colorbar\":{\"outlinewidth\":0,\"ticks\":\"\"},\"colorscale\":[[0.0,\"#0d0887\"],[0.1111111111111111,\"#46039f\"],[0.2222222222222222,\"#7201a8\"],[0.3333333333333333,\"#9c179e\"],[0.4444444444444444,\"#bd3786\"],[0.5555555555555556,\"#d8576b\"],[0.6666666666666666,\"#ed7953\"],[0.7777777777777778,\"#fb9f3a\"],[0.8888888888888888,\"#fdca26\"],[1.0,\"#f0f921\"]]}],\"surface\":[{\"type\":\"surface\",\"colorbar\":{\"outlinewidth\":0,\"ticks\":\"\"},\"colorscale\":[[0.0,\"#0d0887\"],[0.1111111111111111,\"#46039f\"],[0.2222222222222222,\"#7201a8\"],[0.3333333333333333,\"#9c179e\"],[0.4444444444444444,\"#bd3786\"],[0.5555555555555556,\"#d8576b\"],[0.6666666666666666,\"#ed7953\"],[0.7777777777777778,\"#fb9f3a\"],[0.8888888888888888,\"#fdca26\"],[1.0,\"#f0f921\"]]}],\"mesh3d\":[{\"type\":\"mesh3d\",\"colorbar\":{\"outlinewidth\":0,\"ticks\":\"\"}}],\"scatter\":[{\"fillpattern\":{\"fillmode\":\"overlay\",\"size\":10,\"solidity\":0.2},\"type\":\"scatter\"}],\"parcoords\":[{\"type\":\"parcoords\",\"line\":{\"colorbar\":{\"outlinewidth\":0,\"ticks\":\"\"}}}],\"scatterpolargl\":[{\"type\":\"scatterpolargl\",\"marker\":{\"colorbar\":{\"outlinewidth\":0,\"ticks\":\"\"}}}],\"bar\":[{\"error_x\":{\"color\":\"#2a3f5f\"},\"error_y\":{\"color\":\"#2a3f5f\"},\"marker\":{\"line\":{\"color\":\"#E5ECF6\",\"width\":0.5},\"pattern\":{\"fillmode\":\"overlay\",\"size\":10,\"solidity\":0.2}},\"type\":\"bar\"}],\"scattergeo\":[{\"type\":\"scattergeo\",\"marker\":{\"colorbar\":{\"outlinewidth\":0,\"ticks\":\"\"}}}],\"scatterpolar\":[{\"type\":\"scatterpolar\",\"marker\":{\"colorbar\":{\"outlinewidth\":0,\"ticks\":\"\"}}}],\"histogram\":[{\"marker\":{\"pattern\":{\"fillmode\":\"overlay\",\"size\":10,\"solidity\":0.2}},\"type\":\"histogram\"}],\"scattergl\":[{\"type\":\"scattergl\",\"marker\":{\"colorbar\":{\"outlinewidth\":0,\"ticks\":\"\"}}}],\"scatter3d\":[{\"type\":\"scatter3d\",\"line\":{\"colorbar\":{\"outlinewidth\":0,\"ticks\":\"\"}},\"marker\":{\"colorbar\":{\"outlinewidth\":0,\"ticks\":\"\"}}}],\"scattermapbox\":[{\"type\":\"scattermapbox\",\"marker\":{\"colorbar\":{\"outlinewidth\":0,\"ticks\":\"\"}}}],\"scatterternary\":[{\"type\":\"scatterternary\",\"marker\":{\"colorbar\":{\"outlinewidth\":0,\"ticks\":\"\"}}}],\"scattercarpet\":[{\"type\":\"scattercarpet\",\"marker\":{\"colorbar\":{\"outlinewidth\":0,\"ticks\":\"\"}}}],\"carpet\":[{\"aaxis\":{\"endlinecolor\":\"#2a3f5f\",\"gridcolor\":\"white\",\"linecolor\":\"white\",\"minorgridcolor\":\"white\",\"startlinecolor\":\"#2a3f5f\"},\"baxis\":{\"endlinecolor\":\"#2a3f5f\",\"gridcolor\":\"white\",\"linecolor\":\"white\",\"minorgridcolor\":\"white\",\"startlinecolor\":\"#2a3f5f\"},\"type\":\"carpet\"}],\"table\":[{\"cells\":{\"fill\":{\"color\":\"#EBF0F8\"},\"line\":{\"color\":\"white\"}},\"header\":{\"fill\":{\"color\":\"#C8D4E3\"},\"line\":{\"color\":\"white\"}},\"type\":\"table\"}],\"barpolar\":[{\"marker\":{\"line\":{\"color\":\"#E5ECF6\",\"width\":0.5},\"pattern\":{\"fillmode\":\"overlay\",\"size\":10,\"solidity\":0.2}},\"type\":\"barpolar\"}],\"pie\":[{\"automargin\":true,\"type\":\"pie\"}]},\"layout\":{\"autotypenumbers\":\"strict\",\"colorway\":[\"#636efa\",\"#EF553B\",\"#00cc96\",\"#ab63fa\",\"#FFA15A\",\"#19d3f3\",\"#FF6692\",\"#B6E880\",\"#FF97FF\",\"#FECB52\"],\"font\":{\"color\":\"#2a3f5f\"},\"hovermode\":\"closest\",\"hoverlabel\":{\"align\":\"left\"},\"paper_bgcolor\":\"white\",\"plot_bgcolor\":\"#E5ECF6\",\"polar\":{\"bgcolor\":\"#E5ECF6\",\"angularaxis\":{\"gridcolor\":\"white\",\"linecolor\":\"white\",\"ticks\":\"\"},\"radialaxis\":{\"gridcolor\":\"white\",\"linecolor\":\"white\",\"ticks\":\"\"}},\"ternary\":{\"bgcolor\":\"#E5ECF6\",\"aaxis\":{\"gridcolor\":\"white\",\"linecolor\":\"white\",\"ticks\":\"\"},\"baxis\":{\"gridcolor\":\"white\",\"linecolor\":\"white\",\"ticks\":\"\"},\"caxis\":{\"gridcolor\":\"white\",\"linecolor\":\"white\",\"ticks\":\"\"}},\"coloraxis\":{\"colorbar\":{\"outlinewidth\":0,\"ticks\":\"\"}},\"colorscale\":{\"sequential\":[[0.0,\"#0d0887\"],[0.1111111111111111,\"#46039f\"],[0.2222222222222222,\"#7201a8\"],[0.3333333333333333,\"#9c179e\"],[0.4444444444444444,\"#bd3786\"],[0.5555555555555556,\"#d8576b\"],[0.6666666666666666,\"#ed7953\"],[0.7777777777777778,\"#fb9f3a\"],[0.8888888888888888,\"#fdca26\"],[1.0,\"#f0f921\"]],\"sequentialminus\":[[0.0,\"#0d0887\"],[0.1111111111111111,\"#46039f\"],[0.2222222222222222,\"#7201a8\"],[0.3333333333333333,\"#9c179e\"],[0.4444444444444444,\"#bd3786\"],[0.5555555555555556,\"#d8576b\"],[0.6666666666666666,\"#ed7953\"],[0.7777777777777778,\"#fb9f3a\"],[0.8888888888888888,\"#fdca26\"],[1.0,\"#f0f921\"]],\"diverging\":[[0,\"#8e0152\"],[0.1,\"#c51b7d\"],[0.2,\"#de77ae\"],[0.3,\"#f1b6da\"],[0.4,\"#fde0ef\"],[0.5,\"#f7f7f7\"],[0.6,\"#e6f5d0\"],[0.7,\"#b8e186\"],[0.8,\"#7fbc41\"],[0.9,\"#4d9221\"],[1,\"#276419\"]]},\"xaxis\":{\"gridcolor\":\"white\",\"linecolor\":\"white\",\"ticks\":\"\",\"title\":{\"standoff\":15},\"zerolinecolor\":\"white\",\"automargin\":true,\"zerolinewidth\":2},\"yaxis\":{\"gridcolor\":\"white\",\"linecolor\":\"white\",\"ticks\":\"\",\"title\":{\"standoff\":15},\"zerolinecolor\":\"white\",\"automargin\":true,\"zerolinewidth\":2},\"scene\":{\"xaxis\":{\"backgroundcolor\":\"#E5ECF6\",\"gridcolor\":\"white\",\"linecolor\":\"white\",\"showbackground\":true,\"ticks\":\"\",\"zerolinecolor\":\"white\",\"gridwidth\":2},\"yaxis\":{\"backgroundcolor\":\"#E5ECF6\",\"gridcolor\":\"white\",\"linecolor\":\"white\",\"showbackground\":true,\"ticks\":\"\",\"zerolinecolor\":\"white\",\"gridwidth\":2},\"zaxis\":{\"backgroundcolor\":\"#E5ECF6\",\"gridcolor\":\"white\",\"linecolor\":\"white\",\"showbackground\":true,\"ticks\":\"\",\"zerolinecolor\":\"white\",\"gridwidth\":2}},\"shapedefaults\":{\"line\":{\"color\":\"#2a3f5f\"}},\"annotationdefaults\":{\"arrowcolor\":\"#2a3f5f\",\"arrowhead\":0,\"arrowwidth\":1},\"geo\":{\"bgcolor\":\"white\",\"landcolor\":\"#E5ECF6\",\"subunitcolor\":\"white\",\"showland\":true,\"showlakes\":true,\"lakecolor\":\"white\"},\"title\":{\"x\":0.05},\"mapbox\":{\"style\":\"light\"}}},\"xaxis\":{\"anchor\":\"y\",\"domain\":[0.0,1.0],\"title\":{\"text\":\"X\"}},\"yaxis\":{\"anchor\":\"x\",\"domain\":[0.0,1.0],\"title\":{\"text\":\"Y\"}},\"legend\":{\"title\":{\"text\":\"character\"},\"tracegroupgap\":0},\"margin\":{\"t\":60}},                        {\"responsive\": true}                    ).then(function(){\n",
       "                            \n",
       "var gd = document.getElementById('8b45dc03-0507-4871-899c-404ca78ac4b8');\n",
       "var x = new MutationObserver(function (mutations, observer) {{\n",
       "        var display = window.getComputedStyle(gd).display;\n",
       "        if (!display || display === 'none') {{\n",
       "            console.log([gd, 'removed!']);\n",
       "            Plotly.purge(gd);\n",
       "            observer.disconnect();\n",
       "        }}\n",
       "}});\n",
       "\n",
       "// Listen for the removal of the full notebook cells\n",
       "var notebookContainer = gd.closest('#notebook-container');\n",
       "if (notebookContainer) {{\n",
       "    x.observe(notebookContainer, {childList: true});\n",
       "}}\n",
       "\n",
       "// Listen for the clearing of the current output cell\n",
       "var outputEl = gd.closest('.output');\n",
       "if (outputEl) {{\n",
       "    x.observe(outputEl, {childList: true});\n",
       "}}\n",
       "\n",
       "                        })                };                });            </script>        </div>"
      ]
     },
     "metadata": {},
     "output_type": "display_data"
    }
   ],
   "source": [
    "fig.show()"
   ]
  },
  {
   "cell_type": "code",
   "execution_count": null,
   "id": "9980134f-80bb-4141-845a-47b947f99053",
   "metadata": {},
   "outputs": [],
   "source": []
  }
 ],
 "metadata": {
  "kernelspec": {
   "display_name": "Python 3 (ipykernel)",
   "language": "python",
   "name": "python3"
  },
  "language_info": {
   "codemirror_mode": {
    "name": "ipython",
    "version": 3
   },
   "file_extension": ".py",
   "mimetype": "text/x-python",
   "name": "python",
   "nbconvert_exporter": "python",
   "pygments_lexer": "ipython3",
   "version": "3.10.12"
  }
 },
 "nbformat": 4,
 "nbformat_minor": 5
}
